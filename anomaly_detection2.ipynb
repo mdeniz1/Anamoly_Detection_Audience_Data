{
 "cells": [
  {
   "cell_type": "code",
   "execution_count": 2,
   "metadata": {
    "id": "_bQs67XIU9C2",
    "ExecuteTime": {
     "end_time": "2024-02-21T07:03:33.992047Z",
     "start_time": "2024-02-21T07:03:33.985765Z"
    }
   },
   "outputs": [],
   "source": [
    "from kmodes.kprototypes import KPrototypes\n",
    "import pandas as pd\n",
    "pd.set_option('display.max_rows', None)\n",
    "pd.set_option('display.max_columns', None)\n",
    "import numpy as np\n",
    "from sklearn.preprocessing import MinMaxScaler\n"
   ]
  },
  {
   "cell_type": "code",
   "execution_count": 29,
   "metadata": {
    "id": "H_ZxO5sk9fXG",
    "ExecuteTime": {
     "end_time": "2024-02-21T08:29:08.711785Z",
     "start_time": "2024-02-21T08:29:08.696368Z"
    }
   },
   "outputs": [],
   "source": [
    "path = '/Users/mehmetdeniz/Library/CloudStorage/GoogleDrive-mehmetbakideniz@gmail.com/My Drive/meta_audience_insights_age_data.csv'\n",
    "df=pd.read_csv(path)"
   ]
  },
  {
   "cell_type": "code",
   "execution_count": 36,
   "metadata": {
    "id": "i-yV6IN-V2CA",
    "ExecuteTime": {
     "end_time": "2024-02-21T08:36:37.648782Z",
     "start_time": "2024-02-21T08:36:37.646968Z"
    }
   },
   "outputs": [],
   "source": [
    "def anomaly_detection_mixed_data_type(df, category_object, category_metric):\n",
    "    aggregations = {'cost': 'sum', 'clicks': 'sum', 'purchase_value': 'sum', 'install': 'sum', 'impressions': 'sum','purchase': 'sum' }\n",
    "    df2 = df.groupby(category_object).agg(aggregations).reset_index()\n",
    "\n",
    "    df2['cpm'] = np.where(df2['impressions'] != 0, (df2['cost'] / df2['impressions'])*1000, 0)\n",
    "    df2['cr'] = np.where(df2['clicks'] != 0, df2['purchase'] / df2['clicks'], 0)\n",
    "    df2['cpi'] = np.where(df2['install'] != 0, df2['cost'] / df2['install'], 0)\n",
    "    df2['ctr'] = np.where(df2['clicks'] != 0, df2['impressions'] / df2['clicks'], 0)\n",
    "    df2['cpc'] = np.where(df2['clicks'] != 0, df2['cost'] / df2['clicks'], 0)\n",
    "    df2['roas']=np.where(df2['cost'] != 0, df2['purchase_value'] / df2['cost'], 0)\n",
    "    df2.drop(['clicks', 'purchase_value', 'cost', 'install', 'impressions','purchase'], axis=1, inplace= True )\n",
    "    df2.reset_index(inplace=True, drop=True)\n",
    "    categorical_columns = df2.select_dtypes(include=['object']).columns\n",
    "    indexes = [df2.columns.get_loc(column) for column in categorical_columns]\n",
    "    df_subset=df2[category_object+category_metric]\n",
    "    numerical_columns = df_subset.select_dtypes(include=[float, int]).columns\n",
    "    \n",
    "    minmax_scaler = MinMaxScaler(feature_range=(-1, 1))\n",
    "    \n",
    "    df_subset[numerical_columns] = minmax_scaler.fit_transform(df_subset[numerical_columns])\n",
    "    kp = KPrototypes(n_clusters=1, init='Huang', n_init=3, verbose=True)\n",
    "    kp.fit_predict(df_subset, categorical=indexes)\n",
    "    df_subset['labels']=kp.labels_\n",
    "    clusters=kp.cluster_centroids_\n",
    "\n",
    "    def calculate_distances(df_subset, centroids):\n",
    "        def euclidean_dissim(a, b):\n",
    "            \"\"\"Euclidean distance dissimilarity function\"\"\"\n",
    "            return np.sum((a - b) ** 2)\n",
    "    \n",
    "        def matching_dissim(a, b):\n",
    "            \"\"\"Simple matching dissimilarity function\"\"\"\n",
    "            return np.sum(a != b)\n",
    "    \n",
    "        # Initialize an empty list to store distance scores\n",
    "        distances = []\n",
    "    \n",
    "        # Iterate over each row in the DataFrame\n",
    "        for index, row in df_subset.iterrows():\n",
    "            # Get the corresponding centroid for the current row\n",
    "            indx=row['labels']\n",
    "            centroid = centroids[indx]\n",
    "            row = row.iloc[:-1]\n",
    "            categorical_values = []\n",
    "            numerical_values = []\n",
    "            for value in row:\n",
    "                if isinstance(value, (str, pd.Categorical)):\n",
    "                    categorical_values.append(value)\n",
    "                else:\n",
    "                    numerical_values.append(value)\n",
    "    \n",
    "            # Convert categorical and numerical sections to numpy arrays\n",
    "            categorical_array = np.array(categorical_values)\n",
    "            numerical_array = np.array(numerical_values)\n",
    "    \n",
    "            numeric_centroid = []\n",
    "            categorical_centroid = []\n",
    "    \n",
    "            for value in centroid:\n",
    "                try:\n",
    "                    numeric_value = float(value)\n",
    "                    numeric_centroid.append(numeric_value)\n",
    "                except ValueError:\n",
    "                    categorical_centroid.append(value)\n",
    "    \n",
    "            numeric_centroid = np.array(numeric_centroid)\n",
    "            categoric_centroid = categorical_centroid\n",
    "            categorical_dissimilarity = matching_dissim(categorical_array, categoric_centroid)\n",
    "    \n",
    "            numerical_dissimilarity = euclidean_dissim(numerical_array, numeric_centroid)\n",
    "            gamma=kp.gamma\n",
    "            distance = gamma*categorical_dissimilarity + numerical_dissimilarity\n",
    "    \n",
    "            distances.append(distance)\n",
    "    \n",
    "        df_subset['distance'] = distances\n",
    "    \n",
    "        return df_subset\n",
    "\n",
    "    df_subset = calculate_distances(df_subset, clusters)\n",
    "    df_subset[numerical_columns] = pd.DataFrame(minmax_scaler.inverse_transform(df_subset[numerical_columns]), columns=numerical_columns)\n",
    "    df_subset.sort_values(by=['distance'], inplace=True, ascending=False)\n",
    "    df_anomaly=df_subset\n",
    "    # Calculate the number of rows for the first 5%\n",
    "    num_rows = int(len(df_anomaly) * 0.2)\n",
    "\n",
    "# Create the new DataFrame containing the first 5% of rows\n",
    "    df_anomaly = df_anomaly.head(num_rows)\n",
    "    df_anomaly.reset_index(drop=True, inplace=True)\n",
    "    df_anomaly.drop(columns=['labels', 'distance'], inplace=True)\n",
    "    return df_anomaly"
   ]
  },
  {
   "cell_type": "code",
   "outputs": [
    {
     "name": "stdout",
     "output_type": "stream",
     "text": [
      "Init: initializing centroids\n",
      "Init: initializing clusters\n",
      "Starting iterations...\n",
      "Run: 1, iteration: 1/100, moves: 0, ncost: 26.52191688453656\n",
      "Init: initializing centroids\n",
      "Init: initializing clusters\n",
      "Starting iterations...\n",
      "Run: 2, iteration: 1/100, moves: 0, ncost: 26.52191688453656\n",
      "Init: initializing centroids\n",
      "Init: initializing clusters\n",
      "Starting iterations...\n",
      "Run: 3, iteration: 1/100, moves: 0, ncost: 26.52191688453656\n",
      "Best run was number 1\n"
     ]
    },
    {
     "name": "stderr",
     "output_type": "stream",
     "text": [
      "/var/folders/9l/rh0wv2td1gn_vk4kl3gcqzn80000gn/T/ipykernel_4852/2725129410.py:20: SettingWithCopyWarning: \n",
      "A value is trying to be set on a copy of a slice from a DataFrame.\n",
      "Try using .loc[row_indexer,col_indexer] = value instead\n",
      "\n",
      "See the caveats in the documentation: https://pandas.pydata.org/pandas-docs/stable/user_guide/indexing.html#returning-a-view-versus-a-copy\n",
      "  df_subset[numerical_columns] = minmax_scaler.fit_transform(df_subset[numerical_columns])\n",
      "/var/folders/9l/rh0wv2td1gn_vk4kl3gcqzn80000gn/T/ipykernel_4852/2725129410.py:23: SettingWithCopyWarning: \n",
      "A value is trying to be set on a copy of a slice from a DataFrame.\n",
      "Try using .loc[row_indexer,col_indexer] = value instead\n",
      "\n",
      "See the caveats in the documentation: https://pandas.pydata.org/pandas-docs/stable/user_guide/indexing.html#returning-a-view-versus-a-copy\n",
      "  df_subset['labels']=kp.labels_\n",
      "/var/folders/9l/rh0wv2td1gn_vk4kl3gcqzn80000gn/T/ipykernel_4852/2725129410.py:76: SettingWithCopyWarning: \n",
      "A value is trying to be set on a copy of a slice from a DataFrame.\n",
      "Try using .loc[row_indexer,col_indexer] = value instead\n",
      "\n",
      "See the caveats in the documentation: https://pandas.pydata.org/pandas-docs/stable/user_guide/indexing.html#returning-a-view-versus-a-copy\n",
      "  df_subset['distance'] = distances\n",
      "/var/folders/9l/rh0wv2td1gn_vk4kl3gcqzn80000gn/T/ipykernel_4852/2725129410.py:81: SettingWithCopyWarning: \n",
      "A value is trying to be set on a copy of a slice from a DataFrame.\n",
      "Try using .loc[row_indexer,col_indexer] = value instead\n",
      "\n",
      "See the caveats in the documentation: https://pandas.pydata.org/pandas-docs/stable/user_guide/indexing.html#returning-a-view-versus-a-copy\n",
      "  df_subset[numerical_columns] = pd.DataFrame(minmax_scaler.inverse_transform(df_subset[numerical_columns]), columns=numerical_columns)\n",
      "/var/folders/9l/rh0wv2td1gn_vk4kl3gcqzn80000gn/T/ipykernel_4852/2725129410.py:82: SettingWithCopyWarning: \n",
      "A value is trying to be set on a copy of a slice from a DataFrame\n",
      "\n",
      "See the caveats in the documentation: https://pandas.pydata.org/pandas-docs/stable/user_guide/indexing.html#returning-a-view-versus-a-copy\n",
      "  df_subset.sort_values(by=['distance'], inplace=True, ascending=False)\n",
      "/var/folders/9l/rh0wv2td1gn_vk4kl3gcqzn80000gn/T/ipykernel_4852/2725129410.py:90: SettingWithCopyWarning: \n",
      "A value is trying to be set on a copy of a slice from a DataFrame\n",
      "\n",
      "See the caveats in the documentation: https://pandas.pydata.org/pandas-docs/stable/user_guide/indexing.html#returning-a-view-versus-a-copy\n",
      "  df_anomaly.drop(columns=['labels', 'distance'], inplace=True)\n"
     ]
    }
   ],
   "source": [
    "a=['campaign_type','age']\n",
    "b=['roas','cpc']\n",
    "c=anomaly_detection_mixed_data_type(df,a,b)"
   ],
   "metadata": {
    "collapsed": false,
    "ExecuteTime": {
     "end_time": "2024-02-21T08:38:00.076512Z",
     "start_time": "2024-02-21T08:38:00.057371Z"
    }
   },
   "execution_count": 39
  },
  {
   "cell_type": "code",
   "outputs": [
    {
     "data": {
      "text/plain": "  campaign_type    age       roas       cpc\n0  APP_INSTALLS    65+  28.004128  0.620065\n1   LINK_CLICKS  55-64   0.000000  1.110918\n2   LINK_CLICKS  18-24  10.950329  1.148742\n3   LINK_CLICKS  45-54   8.639121  1.106779",
      "text/html": "<div>\n<style scoped>\n    .dataframe tbody tr th:only-of-type {\n        vertical-align: middle;\n    }\n\n    .dataframe tbody tr th {\n        vertical-align: top;\n    }\n\n    .dataframe thead th {\n        text-align: right;\n    }\n</style>\n<table border=\"1\" class=\"dataframe\">\n  <thead>\n    <tr style=\"text-align: right;\">\n      <th></th>\n      <th>campaign_type</th>\n      <th>age</th>\n      <th>roas</th>\n      <th>cpc</th>\n    </tr>\n  </thead>\n  <tbody>\n    <tr>\n      <th>0</th>\n      <td>APP_INSTALLS</td>\n      <td>65+</td>\n      <td>28.004128</td>\n      <td>0.620065</td>\n    </tr>\n    <tr>\n      <th>1</th>\n      <td>LINK_CLICKS</td>\n      <td>55-64</td>\n      <td>0.000000</td>\n      <td>1.110918</td>\n    </tr>\n    <tr>\n      <th>2</th>\n      <td>LINK_CLICKS</td>\n      <td>18-24</td>\n      <td>10.950329</td>\n      <td>1.148742</td>\n    </tr>\n    <tr>\n      <th>3</th>\n      <td>LINK_CLICKS</td>\n      <td>45-54</td>\n      <td>8.639121</td>\n      <td>1.106779</td>\n    </tr>\n  </tbody>\n</table>\n</div>"
     },
     "execution_count": 40,
     "metadata": {},
     "output_type": "execute_result"
    }
   ],
   "source": [
    "c"
   ],
   "metadata": {
    "collapsed": false,
    "ExecuteTime": {
     "end_time": "2024-02-21T08:38:05.130240Z",
     "start_time": "2024-02-21T08:38:05.123326Z"
    }
   },
   "execution_count": 40
  },
  {
   "cell_type": "code",
   "outputs": [],
   "source": [],
   "metadata": {
    "collapsed": false
   }
  }
 ],
 "metadata": {
  "accelerator": "TPU",
  "colab": {
   "provenance": []
  },
  "kernelspec": {
   "display_name": "Python 3 (ipykernel)",
   "language": "python",
   "name": "python3"
  },
  "language_info": {
   "codemirror_mode": {
    "name": "ipython",
    "version": 3
   },
   "file_extension": ".py",
   "mimetype": "text/x-python",
   "name": "python",
   "nbconvert_exporter": "python",
   "pygments_lexer": "ipython3",
   "version": "3.10.11"
  }
 },
 "nbformat": 4,
 "nbformat_minor": 4
}
