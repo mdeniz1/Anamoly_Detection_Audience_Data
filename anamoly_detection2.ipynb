{
 "nbformat": 4,
 "nbformat_minor": 0,
 "metadata": {
  "colab": {
   "provenance": []
  },
  "kernelspec": {
   "name": "python3",
   "language": "python",
   "display_name": "Python 3 (ipykernel)"
  },
  "language_info": {
   "name": "python"
  },
  "accelerator": "TPU"
 },
 "cells": [
  {
   "cell_type": "code",
   "execution_count": 4,
   "metadata": {
    "id": "_bQs67XIU9C2",
    "ExecuteTime": {
     "end_time": "2024-02-18T19:42:59.303539Z",
     "start_time": "2024-02-18T19:42:59.301958Z"
    }
   },
   "outputs": [],
   "source": [
    "from kmodes.kprototypes import KPrototypes\n",
    "import pandas as pd\n",
    "pd.set_option('display.max_rows', None)\n",
    "pd.set_option('display.max_columns', None)\n",
    "import numpy as np\n",
    "from sklearn.preprocessing import MinMaxScaler\n"
   ]
  },
  {
   "cell_type": "code",
   "source": [
    "path = '/Users/mehmetdeniz/Library/CloudStorage/GoogleDrive-mehmetbakideniz@gmail.com/My Drive/meta_audience_insights_age_data.csv'\n",
    "df=pd.read_csv(path)"
   ],
   "metadata": {
    "id": "H_ZxO5sk9fXG",
    "ExecuteTime": {
     "end_time": "2024-02-18T19:45:13.858574Z",
     "start_time": "2024-02-18T19:45:13.841282Z"
    }
   },
   "execution_count": 6,
   "outputs": []
  },
  {
   "cell_type": "code",
   "source": [
    "df=df[['clicks', 'cost', 'gender', 'age', 'campaign_type','purchase_value']]"
   ],
   "metadata": {
    "id": "gTnGLtAf2xaK",
    "ExecuteTime": {
     "end_time": "2024-02-18T19:41:48.704065Z",
     "start_time": "2024-02-18T19:41:48.691409Z"
    }
   },
   "execution_count": null,
   "outputs": []
  },
  {
   "cell_type": "code",
   "source": [
    "grouped = df.groupby(['gender', 'age', 'campaign_type'])\n",
    "\n",
    "df2 = grouped.agg({\n",
    "    'cost': 'sum',\n",
    "    'clicks': 'sum',\n",
    "    'purchase_value': 'sum'\n",
    "}).reset_index()\n",
    "\n"
   ],
   "metadata": {
    "id": "i-yV6IN-V2CA",
    "ExecuteTime": {
     "start_time": "2024-02-18T19:41:48.692897Z"
    }
   },
   "execution_count": null,
   "outputs": []
  },
  {
   "cell_type": "code",
   "source": [
    "df2['cpc'] = np.where(df2['clicks'] != 0, df2['cost'] / df2['clicks'], 0)\n",
    "df2['value/cost']=np.where(df2['cost'] != 0, df2['purchase_value'] / df2['cost'], 0)\n",
    "df2.drop(['clicks', 'purchase_value'], axis=1, inplace= True )"
   ],
   "metadata": {
    "id": "XOs0gAZsy0kp",
    "ExecuteTime": {
     "start_time": "2024-02-18T19:41:48.694187Z"
    }
   },
   "execution_count": null,
   "outputs": []
  },
  {
   "cell_type": "code",
   "source": [
    "len(df2)"
   ],
   "metadata": {
    "id": "aIQ7LUjJ7a3M",
    "ExecuteTime": {
     "start_time": "2024-02-18T19:41:48.695723Z"
    }
   },
   "execution_count": null,
   "outputs": []
  },
  {
   "cell_type": "code",
   "source": [
    "df2['gender']=df2['gender'].astype('category')\n",
    "df2['age']=df2['age'].astype('category')\n",
    "df2['campaign_type']=df2['campaign_type'].astype('category')\n"
   ],
   "metadata": {
    "id": "4rWAFnm_KcHw",
    "ExecuteTime": {
     "start_time": "2024-02-18T19:41:48.697063Z"
    }
   },
   "execution_count": null,
   "outputs": []
  },
  {
   "cell_type": "code",
   "source": [],
   "metadata": {
    "id": "dNVWqdMaamfe",
    "ExecuteTime": {
     "start_time": "2024-02-18T19:41:48.698389Z"
    }
   },
   "execution_count": null,
   "outputs": []
  },
  {
   "cell_type": "code",
   "source": [
    "categorical_columns = df2.select_dtypes(include=['category']).columns\n",
    "indexes = [df2.columns.get_loc(column) for column in categorical_columns]"
   ],
   "metadata": {
    "id": "P23yWTARYmsV",
    "ExecuteTime": {
     "start_time": "2024-02-18T19:41:48.699682Z"
    }
   },
   "execution_count": null,
   "outputs": []
  },
  {
   "cell_type": "code",
   "source": [
    "indexes"
   ],
   "metadata": {
    "id": "1CKEv0_6YxSV",
    "ExecuteTime": {
     "start_time": "2024-02-18T19:41:48.701003Z"
    }
   },
   "execution_count": null,
   "outputs": []
  },
  {
   "cell_type": "code",
   "source": [
    "\n",
    "\n",
    "numerical_columns = df2.select_dtypes(include=[float, int]).columns\n",
    "# Instantiate the StandardScaler object and fit it on the selected numerical columns\n",
    "\n",
    "# Instantiate the MinMaxScaler object\n",
    "minmax_scaler = MinMaxScaler(feature_range=(-1, 1))\n",
    "\n",
    "# Apply MinMaxScaler to the standardized numerical columns\n",
    "df2[numerical_columns] = minmax_scaler.fit_transform(df2[numerical_columns])\n",
    "# Revert back to the original values\n",
    "\n",
    "#df2[numerical_columns] = pd.DataFrame(minmax_scaler.inverse_transform(df2[numerical_columns]), columns=numerical_columns)\n"
   ],
   "metadata": {
    "id": "4dOTDQKPzPRM",
    "ExecuteTime": {
     "start_time": "2024-02-18T19:41:48.702370Z"
    }
   },
   "execution_count": null,
   "outputs": []
  },
  {
   "cell_type": "code",
   "source": [
    "kp = KPrototypes(n_clusters=1, init='Huang', n_init=3, verbose=True)\n",
    "kp.fit_predict(df2, categorical=indexes)\n",
    "\n"
   ],
   "metadata": {
    "id": "4gS137z9KMfo",
    "ExecuteTime": {
     "start_time": "2024-02-18T19:41:48.703939Z"
    }
   },
   "execution_count": null,
   "outputs": []
  },
  {
   "cell_type": "code",
   "source": [
    "print(kp.cost_)\n"
   ],
   "metadata": {
    "id": "QtytXgogbnZc",
    "ExecuteTime": {
     "end_time": "2024-02-18T19:41:48.706370Z",
     "start_time": "2024-02-18T19:41:48.705337Z"
    }
   },
   "execution_count": null,
   "outputs": []
  },
  {
   "cell_type": "code",
   "source": [
    "df2['labels']=kp.labels_\n",
    "clusters=kp.cluster_centroids_\n",
    "\n",
    "def calculate_distances(df, centroids):\n",
    "    def euclidean_dissim(a, b):\n",
    "        \"\"\"Euclidean distance dissimilarity function\"\"\"\n",
    "        return np.sum((a - b) ** 2)\n",
    "\n",
    "    def matching_dissim(a, b):\n",
    "        \"\"\"Simple matching dissimilarity function\"\"\"\n",
    "        return np.sum(a != b)\n",
    "\n",
    "    # Initialize an empty list to store distance scores\n",
    "    distances = []\n",
    "\n",
    "    # Iterate over each row in the DataFrame\n",
    "    for index, row in df.iterrows():\n",
    "        # Get the corresponding centroid for the current row\n",
    "        indx=row['labels']\n",
    "        centroid = centroids[indx]\n",
    "        row = row.iloc[:-1]\n",
    "        categorical_values = []\n",
    "        numerical_values = []\n",
    "        for value in row:\n",
    "            if isinstance(value, (str, pd.Categorical)):\n",
    "                categorical_values.append(value)\n",
    "            else:\n",
    "                numerical_values.append(value)\n",
    "\n",
    "        # Convert categorical and numerical sections to numpy arrays\n",
    "        categorical_array = np.array(categorical_values)\n",
    "        numerical_array = np.array(numerical_values)\n",
    "\n",
    "        numeric_centroid = []\n",
    "        categorical_centroid = []\n",
    "\n",
    "        for value in centroid:\n",
    "            try:\n",
    "                numeric_value = float(value)\n",
    "                numeric_centroid.append(numeric_value)\n",
    "            except ValueError:\n",
    "                categorical_centroid.append(value)\n",
    "\n",
    "        numeric_centroid = np.array(numeric_centroid)\n",
    "        categoric_centroid = categorical_centroid\n",
    "        categorical_dissimilarity = matching_dissim(categorical_array, categoric_centroid)\n",
    "\n",
    "        numerical_dissimilarity = euclidean_dissim(numerical_array, numeric_centroid)\n",
    "        gamma=kp.gamma\n",
    "        distance = gamma*categorical_dissimilarity + numerical_dissimilarity\n",
    "\n",
    "        distances.append(distance)\n",
    "\n",
    "    df['distance'] = distances\n",
    "\n",
    "    return df\n",
    "\n"
   ],
   "metadata": {
    "id": "AxDaiElA9UTu",
    "ExecuteTime": {
     "start_time": "2024-02-18T19:41:48.706722Z"
    }
   },
   "execution_count": null,
   "outputs": []
  },
  {
   "cell_type": "code",
   "source": [
    "kp.get_params"
   ],
   "metadata": {
    "id": "SBH6Us7gAsPl",
    "ExecuteTime": {
     "start_time": "2024-02-18T19:41:48.707831Z"
    }
   },
   "execution_count": null,
   "outputs": []
  },
  {
   "cell_type": "code",
   "source": [
    "df2 = calculate_distances(df2, clusters)\n"
   ],
   "metadata": {
    "id": "3Jm7tajH9VjX",
    "ExecuteTime": {
     "start_time": "2024-02-18T19:41:48.708782Z"
    }
   },
   "execution_count": null,
   "outputs": []
  },
  {
   "cell_type": "code",
   "source": [
    "df2[numerical_columns] = pd.DataFrame(minmax_scaler.inverse_transform(df2[numerical_columns]), columns=numerical_columns)\n"
   ],
   "metadata": {
    "id": "62XrlOYE1uZw",
    "ExecuteTime": {
     "start_time": "2024-02-18T19:41:48.709602Z"
    }
   },
   "execution_count": null,
   "outputs": []
  },
  {
   "cell_type": "code",
   "source": [
    "df2.sort_values(by=['distance'], inplace=True, ascending=False)"
   ],
   "metadata": {
    "id": "_mtQeITY04e-",
    "ExecuteTime": {
     "start_time": "2024-02-18T19:41:48.710405Z"
    }
   },
   "execution_count": null,
   "outputs": []
  },
  {
   "cell_type": "code",
   "source": [
    "df2"
   ],
   "metadata": {
    "id": "fbLx0bunCtge",
    "ExecuteTime": {
     "start_time": "2024-02-18T19:41:48.711258Z"
    }
   },
   "execution_count": null,
   "outputs": []
  },
  {
   "cell_type": "code",
   "source": [
    "df2['labels'].value_counts()"
   ],
   "metadata": {
    "id": "fyZq4ZvLRZ5x",
    "ExecuteTime": {
     "start_time": "2024-02-18T19:41:48.712110Z"
    }
   },
   "execution_count": null,
   "outputs": []
  },
  {
   "cell_type": "code",
   "source": [
    "len(df2)"
   ],
   "metadata": {
    "id": "5inpSYXDa66c",
    "ExecuteTime": {
     "start_time": "2024-02-18T19:41:48.712845Z"
    }
   },
   "execution_count": null,
   "outputs": []
  },
  {
   "cell_type": "code",
   "source": [
    "df_anamoly=df2"
   ],
   "metadata": {
    "id": "TC5ySE0iHRQ7",
    "ExecuteTime": {
     "start_time": "2024-02-18T19:41:48.713582Z"
    }
   },
   "execution_count": null,
   "outputs": []
  },
  {
   "cell_type": "code",
   "source": [
    "# Calculate the number of rows for the first 5%\n",
    "num_rows = int(len(df_anamoly) * 0.2)\n",
    "\n",
    "# Create the new DataFrame containing the first 5% of rows\n",
    "df_anamoly = df_anamoly.head(num_rows)"
   ],
   "metadata": {
    "id": "CQF1N5WJ5fyr",
    "ExecuteTime": {
     "start_time": "2024-02-18T19:41:48.714408Z"
    }
   },
   "execution_count": null,
   "outputs": []
  },
  {
   "cell_type": "code",
   "source": [
    "df_anamoly.reset_index(drop=True, inplace=True)"
   ],
   "metadata": {
    "id": "kR70cct4R8oE",
    "ExecuteTime": {
     "start_time": "2024-02-18T19:41:48.715344Z"
    }
   },
   "execution_count": null,
   "outputs": []
  },
  {
   "cell_type": "code",
   "source": [
    "df_anamoly"
   ],
   "metadata": {
    "id": "wmjX7k5c6Nhg",
    "ExecuteTime": {
     "start_time": "2024-02-18T19:41:48.716227Z"
    }
   },
   "execution_count": null,
   "outputs": []
  }
 ]
}
