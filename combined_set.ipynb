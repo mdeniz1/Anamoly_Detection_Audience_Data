{
 "cells": [
  {
   "cell_type": "code",
   "execution_count": 1,
   "metadata": {
    "id": "_bQs67XIU9C2",
    "ExecuteTime": {
     "end_time": "2024-02-20T08:57:01.007481Z",
     "start_time": "2024-02-20T08:56:56.027327Z"
    }
   },
   "outputs": [],
   "source": [
    "from kmodes.kprototypes import KPrototypes\n",
    "import pandas as pd\n",
    "pd.set_option('display.max_rows', None)\n",
    "pd.set_option('display.max_columns', None)\n",
    "import numpy as np\n",
    "from sklearn.preprocessing import MinMaxScaler\n",
    "import itertools\n"
   ]
  },
  {
   "cell_type": "code",
   "execution_count": 5,
   "metadata": {
    "id": "H_ZxO5sk9fXG",
    "ExecuteTime": {
     "end_time": "2024-02-20T09:27:15.773613Z",
     "start_time": "2024-02-20T09:27:15.759083Z"
    }
   },
   "outputs": [],
   "source": [
    "path = '/Users/mehmetdeniz/Library/CloudStorage/GoogleDrive-mehmetbakideniz@gmail.com/My Drive/meta_audience_insights_age_data.csv'\n",
    "df=pd.read_csv(path)"
   ]
  },
  {
   "cell_type": "code",
   "execution_count": 4,
   "metadata": {
    "ExecuteTime": {
     "end_time": "2024-02-20T08:57:11.971094Z",
     "start_time": "2024-02-20T08:57:11.957995Z"
    }
   },
   "outputs": [
    {
     "data": {
      "text/plain": "       id  schedule_id  page_view  engagement  all_leads  leads  install  \\\n0  175455          901     7815.0     10691.0        0.0    0.0      0.0   \n1  175456          901     6394.0      8131.0        0.0    0.0      0.0   \n2  175457          901       70.0       130.0        0.0    0.0      0.0   \n3  175458          901     8752.0     12094.0        0.0    0.0      0.0   \n4  175459          901    10642.0     13677.0        0.0    0.0      0.0   \n\n   purchase  add_to_cart  signup  begin_checkout  unspecified  \\\n0      20.0        108.0     0.0           163.0          0.0   \n1      12.0         71.0     0.0           117.0          0.0   \n2       0.0          3.0     0.0             1.0          0.0   \n3      14.0         71.0     0.0           132.0          0.0   \n4      13.0         62.0     0.0           123.0          0.0   \n\n   page_view_value  all_leads_value  leads_value  install_value  \\\n0         38961.89              0.0          0.0            0.0   \n1         28090.49              0.0          0.0            0.0   \n2           619.97              0.0          0.0            0.0   \n3         26627.10              0.0          0.0            0.0   \n4         30167.35              0.0          0.0            0.0   \n\n   purchase_value  add_to_cart_value  signup_value  begin_checkout_value  \\\n0        50361.23          304992.02           0.0             758350.52   \n1        38238.21          193903.68           0.0             969837.36   \n2            0.00           14798.10           0.0               7999.90   \n3        41088.52          214216.45           0.0             726487.30   \n4        38577.77          189660.10           0.0             778741.02   \n\n   unspecified_value  campaign_budget  campaign_status  \\\n0                0.0              NaN              NaN   \n1                0.0              NaN              NaN   \n2                0.0              NaN              NaN   \n3                0.0              NaN              NaN   \n4                0.0              NaN              NaN   \n\n                campaign_name   clicks      cpc       cpm  cpp  created_time  \\\n0  dpa_ig_prospecting_sneaker  11771.0  0.49445  11.96777  NaN           NaN   \n1  dpa_ig_prospecting_sneaker   8800.0  0.45893  11.64267  NaN           NaN   \n2  dpa_ig_prospecting_sneaker    136.0  0.52434  14.06786  NaN           NaN   \n3  dpa_ig_prospecting_sneaker  13246.0  0.50062  16.20660  NaN           NaN   \n4  dpa_ig_prospecting_sneaker  14547.0  0.47470  16.50060  NaN           NaN   \n\n       ctr  impressions          campaign_type      optimization_strategy  \\\n0  0.02420     486323.0  PRODUCT_CATALOG_SALES  Unknown Optimization Goal   \n1  0.02537     346874.0  PRODUCT_CATALOG_SALES  Unknown Optimization Goal   \n2  0.02683       5069.0  PRODUCT_CATALOG_SALES  Unknown Optimization Goal   \n3  0.03237     409171.0  PRODUCT_CATALOG_SALES  Unknown Optimization Goal   \n4  0.03476     418498.0  PRODUCT_CATALOG_SALES  Unknown Optimization Goal   \n\n      reach  social_spend     cost   gender    age  cpi       cr     roas  \\\n0  225782.0           NaN  5820.20   female  18-24  NaN  0.00170  8.65283   \n1  136954.0           NaN  4038.54     male  18-24  NaN  0.00136  9.46833   \n2    1792.0           NaN    71.31  unknown  18-24  NaN  0.00000  0.00000   \n3  197111.0           NaN  6631.27   female  25-34  NaN  0.00106  6.19618   \n4  189943.0           NaN  6905.47     male  25-34  NaN  0.00089  5.58655   \n\n   date_interval  \n0             56  \n1             56  \n2             56  \n3             56  \n4             56  ",
      "text/html": "<div>\n<style scoped>\n    .dataframe tbody tr th:only-of-type {\n        vertical-align: middle;\n    }\n\n    .dataframe tbody tr th {\n        vertical-align: top;\n    }\n\n    .dataframe thead th {\n        text-align: right;\n    }\n</style>\n<table border=\"1\" class=\"dataframe\">\n  <thead>\n    <tr style=\"text-align: right;\">\n      <th></th>\n      <th>id</th>\n      <th>schedule_id</th>\n      <th>page_view</th>\n      <th>engagement</th>\n      <th>all_leads</th>\n      <th>leads</th>\n      <th>install</th>\n      <th>purchase</th>\n      <th>add_to_cart</th>\n      <th>signup</th>\n      <th>begin_checkout</th>\n      <th>unspecified</th>\n      <th>page_view_value</th>\n      <th>all_leads_value</th>\n      <th>leads_value</th>\n      <th>install_value</th>\n      <th>purchase_value</th>\n      <th>add_to_cart_value</th>\n      <th>signup_value</th>\n      <th>begin_checkout_value</th>\n      <th>unspecified_value</th>\n      <th>campaign_budget</th>\n      <th>campaign_status</th>\n      <th>campaign_name</th>\n      <th>clicks</th>\n      <th>cpc</th>\n      <th>cpm</th>\n      <th>cpp</th>\n      <th>created_time</th>\n      <th>ctr</th>\n      <th>impressions</th>\n      <th>campaign_type</th>\n      <th>optimization_strategy</th>\n      <th>reach</th>\n      <th>social_spend</th>\n      <th>cost</th>\n      <th>gender</th>\n      <th>age</th>\n      <th>cpi</th>\n      <th>cr</th>\n      <th>roas</th>\n      <th>date_interval</th>\n    </tr>\n  </thead>\n  <tbody>\n    <tr>\n      <th>0</th>\n      <td>175455</td>\n      <td>901</td>\n      <td>7815.0</td>\n      <td>10691.0</td>\n      <td>0.0</td>\n      <td>0.0</td>\n      <td>0.0</td>\n      <td>20.0</td>\n      <td>108.0</td>\n      <td>0.0</td>\n      <td>163.0</td>\n      <td>0.0</td>\n      <td>38961.89</td>\n      <td>0.0</td>\n      <td>0.0</td>\n      <td>0.0</td>\n      <td>50361.23</td>\n      <td>304992.02</td>\n      <td>0.0</td>\n      <td>758350.52</td>\n      <td>0.0</td>\n      <td>NaN</td>\n      <td>NaN</td>\n      <td>dpa_ig_prospecting_sneaker</td>\n      <td>11771.0</td>\n      <td>0.49445</td>\n      <td>11.96777</td>\n      <td>NaN</td>\n      <td>NaN</td>\n      <td>0.02420</td>\n      <td>486323.0</td>\n      <td>PRODUCT_CATALOG_SALES</td>\n      <td>Unknown Optimization Goal</td>\n      <td>225782.0</td>\n      <td>NaN</td>\n      <td>5820.20</td>\n      <td>female</td>\n      <td>18-24</td>\n      <td>NaN</td>\n      <td>0.00170</td>\n      <td>8.65283</td>\n      <td>56</td>\n    </tr>\n    <tr>\n      <th>1</th>\n      <td>175456</td>\n      <td>901</td>\n      <td>6394.0</td>\n      <td>8131.0</td>\n      <td>0.0</td>\n      <td>0.0</td>\n      <td>0.0</td>\n      <td>12.0</td>\n      <td>71.0</td>\n      <td>0.0</td>\n      <td>117.0</td>\n      <td>0.0</td>\n      <td>28090.49</td>\n      <td>0.0</td>\n      <td>0.0</td>\n      <td>0.0</td>\n      <td>38238.21</td>\n      <td>193903.68</td>\n      <td>0.0</td>\n      <td>969837.36</td>\n      <td>0.0</td>\n      <td>NaN</td>\n      <td>NaN</td>\n      <td>dpa_ig_prospecting_sneaker</td>\n      <td>8800.0</td>\n      <td>0.45893</td>\n      <td>11.64267</td>\n      <td>NaN</td>\n      <td>NaN</td>\n      <td>0.02537</td>\n      <td>346874.0</td>\n      <td>PRODUCT_CATALOG_SALES</td>\n      <td>Unknown Optimization Goal</td>\n      <td>136954.0</td>\n      <td>NaN</td>\n      <td>4038.54</td>\n      <td>male</td>\n      <td>18-24</td>\n      <td>NaN</td>\n      <td>0.00136</td>\n      <td>9.46833</td>\n      <td>56</td>\n    </tr>\n    <tr>\n      <th>2</th>\n      <td>175457</td>\n      <td>901</td>\n      <td>70.0</td>\n      <td>130.0</td>\n      <td>0.0</td>\n      <td>0.0</td>\n      <td>0.0</td>\n      <td>0.0</td>\n      <td>3.0</td>\n      <td>0.0</td>\n      <td>1.0</td>\n      <td>0.0</td>\n      <td>619.97</td>\n      <td>0.0</td>\n      <td>0.0</td>\n      <td>0.0</td>\n      <td>0.00</td>\n      <td>14798.10</td>\n      <td>0.0</td>\n      <td>7999.90</td>\n      <td>0.0</td>\n      <td>NaN</td>\n      <td>NaN</td>\n      <td>dpa_ig_prospecting_sneaker</td>\n      <td>136.0</td>\n      <td>0.52434</td>\n      <td>14.06786</td>\n      <td>NaN</td>\n      <td>NaN</td>\n      <td>0.02683</td>\n      <td>5069.0</td>\n      <td>PRODUCT_CATALOG_SALES</td>\n      <td>Unknown Optimization Goal</td>\n      <td>1792.0</td>\n      <td>NaN</td>\n      <td>71.31</td>\n      <td>unknown</td>\n      <td>18-24</td>\n      <td>NaN</td>\n      <td>0.00000</td>\n      <td>0.00000</td>\n      <td>56</td>\n    </tr>\n    <tr>\n      <th>3</th>\n      <td>175458</td>\n      <td>901</td>\n      <td>8752.0</td>\n      <td>12094.0</td>\n      <td>0.0</td>\n      <td>0.0</td>\n      <td>0.0</td>\n      <td>14.0</td>\n      <td>71.0</td>\n      <td>0.0</td>\n      <td>132.0</td>\n      <td>0.0</td>\n      <td>26627.10</td>\n      <td>0.0</td>\n      <td>0.0</td>\n      <td>0.0</td>\n      <td>41088.52</td>\n      <td>214216.45</td>\n      <td>0.0</td>\n      <td>726487.30</td>\n      <td>0.0</td>\n      <td>NaN</td>\n      <td>NaN</td>\n      <td>dpa_ig_prospecting_sneaker</td>\n      <td>13246.0</td>\n      <td>0.50062</td>\n      <td>16.20660</td>\n      <td>NaN</td>\n      <td>NaN</td>\n      <td>0.03237</td>\n      <td>409171.0</td>\n      <td>PRODUCT_CATALOG_SALES</td>\n      <td>Unknown Optimization Goal</td>\n      <td>197111.0</td>\n      <td>NaN</td>\n      <td>6631.27</td>\n      <td>female</td>\n      <td>25-34</td>\n      <td>NaN</td>\n      <td>0.00106</td>\n      <td>6.19618</td>\n      <td>56</td>\n    </tr>\n    <tr>\n      <th>4</th>\n      <td>175459</td>\n      <td>901</td>\n      <td>10642.0</td>\n      <td>13677.0</td>\n      <td>0.0</td>\n      <td>0.0</td>\n      <td>0.0</td>\n      <td>13.0</td>\n      <td>62.0</td>\n      <td>0.0</td>\n      <td>123.0</td>\n      <td>0.0</td>\n      <td>30167.35</td>\n      <td>0.0</td>\n      <td>0.0</td>\n      <td>0.0</td>\n      <td>38577.77</td>\n      <td>189660.10</td>\n      <td>0.0</td>\n      <td>778741.02</td>\n      <td>0.0</td>\n      <td>NaN</td>\n      <td>NaN</td>\n      <td>dpa_ig_prospecting_sneaker</td>\n      <td>14547.0</td>\n      <td>0.47470</td>\n      <td>16.50060</td>\n      <td>NaN</td>\n      <td>NaN</td>\n      <td>0.03476</td>\n      <td>418498.0</td>\n      <td>PRODUCT_CATALOG_SALES</td>\n      <td>Unknown Optimization Goal</td>\n      <td>189943.0</td>\n      <td>NaN</td>\n      <td>6905.47</td>\n      <td>male</td>\n      <td>25-34</td>\n      <td>NaN</td>\n      <td>0.00089</td>\n      <td>5.58655</td>\n      <td>56</td>\n    </tr>\n  </tbody>\n</table>\n</div>"
     },
     "execution_count": 4,
     "metadata": {},
     "output_type": "execute_result"
    }
   ],
   "source": [
    "df.head()"
   ]
  },
  {
   "cell_type": "code",
   "execution_count": 123,
   "metadata": {
    "id": "i-yV6IN-V2CA",
    "ExecuteTime": {
     "end_time": "2024-02-19T14:56:13.028368Z",
     "start_time": "2024-02-19T14:56:13.007Z"
    }
   },
   "outputs": [],
   "source": [
    "\n",
    "# Define the columns for grouping and aggregation\n",
    "columns = ['gender', 'age', 'campaign_type', 'optimization_strategy']\n",
    "aggregations = {'cost': 'sum', 'clicks': 'sum', 'purchase_value': 'sum'}\n",
    "\n",
    "# Initialize an empty list to store the grouped DataFrames\n",
    "grouped_dfs = []\n",
    "\n",
    "# Perform grouping operations for different combinations of columns\n",
    "for i in range(1, len(columns) + 1):\n",
    "    combinations = itertools.combinations(columns, i)\n",
    "    for combo in combinations:\n",
    "        grouped_df = df.groupby(list(combo)).agg(aggregations).reset_index()\n",
    "        #grouped_df['combinations'] = grouped_df[combo].apply(lambda x: ' '.join(x.dropna().astype(str)), axis=1)\n",
    "\n",
    "        grouped_dfs.append(grouped_df)\n",
    "        \n",
    "df2 = pd.concat(grouped_dfs, axis=0, join='outer')\n",
    "\n",
    "# merged_df will contain the final merged DataFrame"
   ]
  },
  {
   "cell_type": "code",
   "outputs": [
    {
     "data": {
      "text/plain": "    gender          cost     clicks  purchase_value    age campaign_type  \\\n0   female  946650.03348  1371121.0      9438829.50    NaN           NaN   \n1     male  906833.70359  1137256.0      9997000.03    NaN           NaN   \n2  unknown   18259.13359    21788.0       263759.36    NaN           NaN   \n0      NaN  646356.19327   878412.0      7411329.39  18-24           NaN   \n1      NaN  641755.16039   890027.0      7164112.44  25-34           NaN   \n\n  optimization_strategy  \n0                   NaN  \n1                   NaN  \n2                   NaN  \n0                   NaN  \n1                   NaN  ",
      "text/html": "<div>\n<style scoped>\n    .dataframe tbody tr th:only-of-type {\n        vertical-align: middle;\n    }\n\n    .dataframe tbody tr th {\n        vertical-align: top;\n    }\n\n    .dataframe thead th {\n        text-align: right;\n    }\n</style>\n<table border=\"1\" class=\"dataframe\">\n  <thead>\n    <tr style=\"text-align: right;\">\n      <th></th>\n      <th>gender</th>\n      <th>cost</th>\n      <th>clicks</th>\n      <th>purchase_value</th>\n      <th>age</th>\n      <th>campaign_type</th>\n      <th>optimization_strategy</th>\n    </tr>\n  </thead>\n  <tbody>\n    <tr>\n      <th>0</th>\n      <td>female</td>\n      <td>946650.03348</td>\n      <td>1371121.0</td>\n      <td>9438829.50</td>\n      <td>NaN</td>\n      <td>NaN</td>\n      <td>NaN</td>\n    </tr>\n    <tr>\n      <th>1</th>\n      <td>male</td>\n      <td>906833.70359</td>\n      <td>1137256.0</td>\n      <td>9997000.03</td>\n      <td>NaN</td>\n      <td>NaN</td>\n      <td>NaN</td>\n    </tr>\n    <tr>\n      <th>2</th>\n      <td>unknown</td>\n      <td>18259.13359</td>\n      <td>21788.0</td>\n      <td>263759.36</td>\n      <td>NaN</td>\n      <td>NaN</td>\n      <td>NaN</td>\n    </tr>\n    <tr>\n      <th>0</th>\n      <td>NaN</td>\n      <td>646356.19327</td>\n      <td>878412.0</td>\n      <td>7411329.39</td>\n      <td>18-24</td>\n      <td>NaN</td>\n      <td>NaN</td>\n    </tr>\n    <tr>\n      <th>1</th>\n      <td>NaN</td>\n      <td>641755.16039</td>\n      <td>890027.0</td>\n      <td>7164112.44</td>\n      <td>25-34</td>\n      <td>NaN</td>\n      <td>NaN</td>\n    </tr>\n  </tbody>\n</table>\n</div>"
     },
     "execution_count": 124,
     "metadata": {},
     "output_type": "execute_result"
    }
   ],
   "source": [
    "df2.head()"
   ],
   "metadata": {
    "collapsed": false,
    "ExecuteTime": {
     "end_time": "2024-02-19T14:56:16.072608Z",
     "start_time": "2024-02-19T14:56:16.054228Z"
    }
   },
   "execution_count": 124
  },
  {
   "cell_type": "code",
   "execution_count": 125,
   "metadata": {
    "id": "XOs0gAZsy0kp",
    "ExecuteTime": {
     "end_time": "2024-02-19T14:56:29.955171Z",
     "start_time": "2024-02-19T14:56:29.943881Z"
    }
   },
   "outputs": [],
   "source": [
    "df2['cpc'] = np.where(df2['clicks'] != 0, df2['cost'] / df2['clicks'], 0)\n",
    "df2['roas']=np.where(df2['cost'] != 0, df2['purchase_value'] / df2['cost'], 0)\n",
    "df2.drop(['clicks', 'purchase_value', 'cost'], axis=1, inplace= True )"
   ]
  },
  {
   "cell_type": "code",
   "execution_count": 128,
   "metadata": {
    "id": "aIQ7LUjJ7a3M",
    "ExecuteTime": {
     "end_time": "2024-02-19T14:58:32.709787Z",
     "start_time": "2024-02-19T14:58:32.703713Z"
    }
   },
   "outputs": [
    {
     "data": {
      "text/plain": "   index   gender    age campaign_type optimization_strategy       cpc  \\\n0      0   female    NaN           NaN                   NaN  0.690420   \n1      1     male    NaN           NaN                   NaN  0.797387   \n2      2  unknown    NaN           NaN                   NaN  0.838036   \n3      0      NaN  18-24           NaN                   NaN  0.735824   \n4      1      NaN  25-34           NaN                   NaN  0.721051   \n\n        roas  \n0   9.970770  \n1  11.024072  \n2  14.445338  \n3  11.466324  \n4  11.163311  ",
      "text/html": "<div>\n<style scoped>\n    .dataframe tbody tr th:only-of-type {\n        vertical-align: middle;\n    }\n\n    .dataframe tbody tr th {\n        vertical-align: top;\n    }\n\n    .dataframe thead th {\n        text-align: right;\n    }\n</style>\n<table border=\"1\" class=\"dataframe\">\n  <thead>\n    <tr style=\"text-align: right;\">\n      <th></th>\n      <th>index</th>\n      <th>gender</th>\n      <th>age</th>\n      <th>campaign_type</th>\n      <th>optimization_strategy</th>\n      <th>cpc</th>\n      <th>roas</th>\n    </tr>\n  </thead>\n  <tbody>\n    <tr>\n      <th>0</th>\n      <td>0</td>\n      <td>female</td>\n      <td>NaN</td>\n      <td>NaN</td>\n      <td>NaN</td>\n      <td>0.690420</td>\n      <td>9.970770</td>\n    </tr>\n    <tr>\n      <th>1</th>\n      <td>1</td>\n      <td>male</td>\n      <td>NaN</td>\n      <td>NaN</td>\n      <td>NaN</td>\n      <td>0.797387</td>\n      <td>11.024072</td>\n    </tr>\n    <tr>\n      <th>2</th>\n      <td>2</td>\n      <td>unknown</td>\n      <td>NaN</td>\n      <td>NaN</td>\n      <td>NaN</td>\n      <td>0.838036</td>\n      <td>14.445338</td>\n    </tr>\n    <tr>\n      <th>3</th>\n      <td>0</td>\n      <td>NaN</td>\n      <td>18-24</td>\n      <td>NaN</td>\n      <td>NaN</td>\n      <td>0.735824</td>\n      <td>11.466324</td>\n    </tr>\n    <tr>\n      <th>4</th>\n      <td>1</td>\n      <td>NaN</td>\n      <td>25-34</td>\n      <td>NaN</td>\n      <td>NaN</td>\n      <td>0.721051</td>\n      <td>11.163311</td>\n    </tr>\n  </tbody>\n</table>\n</div>"
     },
     "execution_count": 128,
     "metadata": {},
     "output_type": "execute_result"
    }
   ],
   "source": [
    "df2.head()"
   ]
  },
  {
   "cell_type": "code",
   "outputs": [],
   "source": [
    "df2.reset_index(inplace=True, drop=True)"
   ],
   "metadata": {
    "collapsed": false,
    "ExecuteTime": {
     "end_time": "2024-02-19T15:02:31.185565Z",
     "start_time": "2024-02-19T15:02:31.168758Z"
    }
   },
   "execution_count": 133
  },
  {
   "cell_type": "code",
   "execution_count": 129,
   "metadata": {
    "id": "P23yWTARYmsV",
    "ExecuteTime": {
     "end_time": "2024-02-19T15:01:16.369115Z",
     "start_time": "2024-02-19T15:01:16.359797Z"
    }
   },
   "outputs": [],
   "source": [
    "import pandas as pd\n",
    "\n",
    "# Assuming df2 is your DataFrame\n",
    "columns = ['gender', 'age', 'campaign_type', 'optimization_strategy']\n",
    "\n",
    "# Create the 'combinations' column\n",
    "df2['combinations'] = df2[columns].apply(lambda x: ', '.join(x.dropna().astype(str)), axis=1)\n",
    "\n",
    "# Drop the original columns\n",
    "df2 = df2.drop(columns=columns)"
   ]
  },
  {
   "cell_type": "code",
   "outputs": [],
   "source": [
    "df2.drop(['index'], axis=1, inplace= True )\n"
   ],
   "metadata": {
    "collapsed": false,
    "ExecuteTime": {
     "end_time": "2024-02-19T15:03:23.238708Z",
     "start_time": "2024-02-19T15:03:23.215279Z"
    }
   },
   "execution_count": 137
  },
  {
   "cell_type": "code",
   "outputs": [],
   "source": [
    "from sklearn.ensemble import IsolationForest\n",
    "\n",
    "# Select the columns of interest\n",
    "columns_of_interest = ['roas', 'cpc']\n",
    "\n",
    "# Create a new DataFrame with only the columns of interest\n",
    "df_subset = df2[columns_of_interest]\n",
    "\n",
    "# Create an instance of the IsolationForest model\n",
    "isolation_forest = IsolationForest(n_estimators=100,max_samples='auto',contamination=float(0.1))\n",
    "\n",
    "# Fit the model on the data\n",
    "isolation_forest.fit(df_subset)\n",
    "\n",
    "# Predict anomalies for the data points\n",
    "predictions = isolation_forest.predict(df_subset)\n",
    "\n",
    "# Add the \"IsAnomaly\" column to df2\n",
    "df2['IsAnomaly'] = predictions"
   ],
   "metadata": {
    "collapsed": false,
    "ExecuteTime": {
     "end_time": "2024-02-19T16:06:08.057397Z",
     "start_time": "2024-02-19T16:06:07.992420Z"
    }
   },
   "execution_count": 152
  },
  {
   "cell_type": "code",
   "outputs": [],
   "source": [
    "path = '/Users/mehmetdeniz/Library/CloudStorage/GoogleDrive-mehmetbakideniz@gmail.com/My Drive/result_ISF2.csv'\n",
    "\n",
    "df2[df2['IsAnomaly'] ==-1].to_csv(path)"
   ],
   "metadata": {
    "collapsed": false,
    "ExecuteTime": {
     "end_time": "2024-02-19T16:06:18.576014Z",
     "start_time": "2024-02-19T16:06:18.571896Z"
    }
   },
   "execution_count": 153
  },
  {
   "cell_type": "code",
   "outputs": [
    {
     "data": {
      "text/plain": "IsAnomaly\n 1    246\n-1     51\nName: count, dtype: int64"
     },
     "execution_count": 146,
     "metadata": {},
     "output_type": "execute_result"
    }
   ],
   "source": [
    "df2['IsAnomaly'].value_counts()"
   ],
   "metadata": {
    "collapsed": false,
    "ExecuteTime": {
     "end_time": "2024-02-19T15:23:47.294459Z",
     "start_time": "2024-02-19T15:23:47.291537Z"
    }
   },
   "execution_count": 146
  },
  {
   "cell_type": "code",
   "outputs": [],
   "source": [],
   "metadata": {
    "collapsed": false
   }
  }
 ],
 "metadata": {
  "accelerator": "TPU",
  "colab": {
   "provenance": []
  },
  "kernelspec": {
   "display_name": "Python 3 (ipykernel)",
   "language": "python",
   "name": "python3"
  },
  "language_info": {
   "codemirror_mode": {
    "name": "ipython",
    "version": 3
   },
   "file_extension": ".py",
   "mimetype": "text/x-python",
   "name": "python",
   "nbconvert_exporter": "python",
   "pygments_lexer": "ipython3",
   "version": "3.10.11"
  }
 },
 "nbformat": 4,
 "nbformat_minor": 4
}
