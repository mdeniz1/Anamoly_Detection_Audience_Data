{
 "cells": [
  {
   "cell_type": "code",
   "execution_count": 21,
   "metadata": {
    "id": "_bQs67XIU9C2",
    "ExecuteTime": {
     "end_time": "2024-02-20T09:55:03.418666Z",
     "start_time": "2024-02-20T09:55:03.412450Z"
    }
   },
   "outputs": [],
   "source": [
    "from kmodes.kprototypes import KPrototypes\n",
    "import pandas as pd\n",
    "pd.set_option('display.max_rows', None)\n",
    "pd.set_option('display.max_columns', None)\n",
    "import numpy as np\n",
    "from sklearn.preprocessing import MinMaxScaler\n",
    "import itertools\n",
    "from sklearn.ensemble import IsolationForest\n"
   ]
  },
  {
   "cell_type": "code",
   "execution_count": 22,
   "metadata": {
    "id": "H_ZxO5sk9fXG",
    "ExecuteTime": {
     "end_time": "2024-02-20T10:06:39.686816Z",
     "start_time": "2024-02-20T10:06:39.675423Z"
    }
   },
   "outputs": [],
   "source": [
    "path = '/Users/mehmetdeniz/Library/CloudStorage/GoogleDrive-mehmetbakideniz@gmail.com/My Drive/meta_audience_insights_age_data.csv'\n",
    "df1=pd.read_csv(path)"
   ]
  },
  {
   "cell_type": "code",
   "execution_count": 42,
   "metadata": {
    "id": "i-yV6IN-V2CA",
    "ExecuteTime": {
     "end_time": "2024-02-20T11:42:45.419514Z",
     "start_time": "2024-02-20T11:42:45.415848Z"
    }
   },
   "outputs": [],
   "source": [
    "def combined_set_anomaly(df, columns_category, columns_metric): \n",
    "# Define the columns for grouping and aggregation\n",
    "\n",
    "    aggregations = {'cost': 'sum', 'clicks': 'sum', 'purchase_value': 'sum', 'install': 'sum', 'impressions': 'sum','purchase': 'sum' }\n",
    "    \n",
    "    # Initialize an empty list to store the grouped DataFrames\n",
    "    grouped_dfs = []\n",
    "    \n",
    "    # Perform grouping operations for different combinations of columns\n",
    "    for i in range(1, len(columns_category) + 1):\n",
    "        combinations = itertools.combinations(columns_category, i)\n",
    "        for combo in combinations:\n",
    "            grouped_df = df.groupby(list(combo)).agg(aggregations).reset_index()\n",
    "            \n",
    "            grouped_dfs.append(grouped_df)\n",
    "            \n",
    "    df2 = pd.concat(grouped_dfs, axis=0, join='outer')\n",
    "    df2['cpm'] = np.where(df2['impressions'] != 0, (df2['cost'] / df2['impressions'])*1000, 0)\n",
    "    df2['cr'] = np.where(df2['clicks'] != 0, df2['purchase'] / df2['clicks'], 0)\n",
    "    df2['cpi'] = np.where(df2['install'] != 0, df2['cost'] / df2['install'], 0)\n",
    "    df2['ctr'] = np.where(df2['clicks'] != 0, df2['impressions'] / df2['clicks'], 0)\n",
    "    df2['cpc'] = np.where(df2['clicks'] != 0, df2['cost'] / df2['clicks'], 0)\n",
    "    df2['roas']=np.where(df2['cost'] != 0, df2['purchase_value'] / df2['cost'], 0)\n",
    "    df2.drop(['clicks', 'purchase_value', 'cost', 'install', 'impressions','purchase'], axis=1, inplace= True )\n",
    "    df2.reset_index(inplace=True, drop=True)\n",
    "    df2['combinations'] = df2[columns_category].apply(lambda x: ', '.join(x.dropna().astype(str)), axis=1)\n",
    "    df2 = df2.drop(columns=columns_category)\n",
    "    #df2.drop(['index'], axis=1, inplace= True )\n",
    "    \n",
    "    \n",
    "    # Create a new DataFrame with only the columns of interest\n",
    "    df_subset = df2[columns_metric]\n",
    "    \n",
    "    # Create an instance of the IsolationForest model\n",
    "    isolation_forest = IsolationForest(n_estimators=100,max_samples='auto',contamination=float(0.1))\n",
    "    \n",
    "    # Fit the model on the data\n",
    "    isolation_forest.fit(df_subset)\n",
    "    \n",
    "    # Predict anomalies for the data points\n",
    "    predictions = isolation_forest.predict(df_subset)\n",
    "    \n",
    "    # Add the \"IsAnomaly\" column to df2\n",
    "    df2['IsAnomaly'] = predictions\n",
    "    df2=df2[df2['IsAnomaly'] ==-1]\n",
    "    df2 = df2.drop(columns='IsAnomaly')\n",
    "\n",
    "    return df2\n"
   ]
  },
  {
   "cell_type": "code",
   "outputs": [],
   "source": [
    "columns = ['gender', 'age', 'campaign_type', 'optimization_strategy']\n",
    "columns_of_interest = ['ctr', 'cpi']\n",
    "df_combinations=combined_set_anomaly(df1, columns, columns_of_interest )"
   ],
   "metadata": {
    "collapsed": false,
    "ExecuteTime": {
     "end_time": "2024-02-20T11:42:47.895082Z",
     "start_time": "2024-02-20T11:42:47.795973Z"
    }
   },
   "execution_count": 43
  },
  {
   "cell_type": "code",
   "outputs": [],
   "source": [
    "df_combinations=df_combinations[columns_of_interest+['combinations']]"
   ],
   "metadata": {
    "collapsed": false,
    "ExecuteTime": {
     "end_time": "2024-02-20T12:49:29.560103Z",
     "start_time": "2024-02-20T12:49:29.555390Z"
    }
   },
   "execution_count": 47
  },
  {
   "cell_type": "code",
   "outputs": [
    {
     "data": {
      "text/plain": "            ctr          cpi  \\\n27    74.601112    20.517435   \n52   103.647800   195.152049   \n69    17.815863   593.034735   \n74   103.647800   195.152049   \n91   100.509665   300.473088   \n95    66.077894   554.171911   \n104   12.968593   709.760115   \n108   13.770164  1015.363687   \n114  106.382980   152.068078   \n137  146.083621   106.226122   \n141   97.829609   245.307601   \n149   44.965000   514.701770   \n158  100.509665   300.473088   \n160   66.077894   554.171911   \n170  106.382980   152.068078   \n182  146.083621   106.226122   \n184   97.829609   245.307601   \n188   44.965000   514.701770   \n207  103.647800   195.152049   \n224   17.815863   593.034735   \n230  100.509665   300.473088   \n234   66.077894   554.171911   \n243   12.968593   709.760115   \n247   13.770164  1015.363687   \n253  106.382980   152.068078   \n276  146.083621   106.226122   \n280   97.829609   245.307601   \n288   44.965000   514.701770   \n\n                                          combinations  \n27                                      unknown, 18-24  \n52                                  18-24, LINK_CLICKS  \n69                                55-64, OUTCOME_SALES  \n74                                         18-24, NONE  \n91                          female, 18-24, LINK_CLICKS  \n95                          female, 25-34, LINK_CLICKS  \n104                       female, 45-54, OUTCOME_SALES  \n108                       female, 55-64, OUTCOME_SALES  \n114                           male, 18-24, LINK_CLICKS  \n137                        unknown, 18-24, LINK_CLICKS  \n141                        unknown, 25-34, LINK_CLICKS  \n149                        unknown, 45-54, LINK_CLICKS  \n158                                female, 18-24, NONE  \n160                                female, 25-34, NONE  \n170                                  male, 18-24, NONE  \n182                               unknown, 18-24, NONE  \n184                               unknown, 25-34, NONE  \n188                               unknown, 45-54, NONE  \n207                           18-24, LINK_CLICKS, NONE  \n224    55-64, OUTCOME_SALES, Unknown Optimization Goal  \n230                   female, 18-24, LINK_CLICKS, NONE  \n234                   female, 25-34, LINK_CLICKS, NONE  \n243  female, 45-54, OUTCOME_SALES, Unknown Optimiza...  \n247  female, 55-64, OUTCOME_SALES, Unknown Optimiza...  \n253                     male, 18-24, LINK_CLICKS, NONE  \n276                  unknown, 18-24, LINK_CLICKS, NONE  \n280                  unknown, 25-34, LINK_CLICKS, NONE  \n288                  unknown, 45-54, LINK_CLICKS, NONE  ",
      "text/html": "<div>\n<style scoped>\n    .dataframe tbody tr th:only-of-type {\n        vertical-align: middle;\n    }\n\n    .dataframe tbody tr th {\n        vertical-align: top;\n    }\n\n    .dataframe thead th {\n        text-align: right;\n    }\n</style>\n<table border=\"1\" class=\"dataframe\">\n  <thead>\n    <tr style=\"text-align: right;\">\n      <th></th>\n      <th>ctr</th>\n      <th>cpi</th>\n      <th>combinations</th>\n    </tr>\n  </thead>\n  <tbody>\n    <tr>\n      <th>27</th>\n      <td>74.601112</td>\n      <td>20.517435</td>\n      <td>unknown, 18-24</td>\n    </tr>\n    <tr>\n      <th>52</th>\n      <td>103.647800</td>\n      <td>195.152049</td>\n      <td>18-24, LINK_CLICKS</td>\n    </tr>\n    <tr>\n      <th>69</th>\n      <td>17.815863</td>\n      <td>593.034735</td>\n      <td>55-64, OUTCOME_SALES</td>\n    </tr>\n    <tr>\n      <th>74</th>\n      <td>103.647800</td>\n      <td>195.152049</td>\n      <td>18-24, NONE</td>\n    </tr>\n    <tr>\n      <th>91</th>\n      <td>100.509665</td>\n      <td>300.473088</td>\n      <td>female, 18-24, LINK_CLICKS</td>\n    </tr>\n    <tr>\n      <th>95</th>\n      <td>66.077894</td>\n      <td>554.171911</td>\n      <td>female, 25-34, LINK_CLICKS</td>\n    </tr>\n    <tr>\n      <th>104</th>\n      <td>12.968593</td>\n      <td>709.760115</td>\n      <td>female, 45-54, OUTCOME_SALES</td>\n    </tr>\n    <tr>\n      <th>108</th>\n      <td>13.770164</td>\n      <td>1015.363687</td>\n      <td>female, 55-64, OUTCOME_SALES</td>\n    </tr>\n    <tr>\n      <th>114</th>\n      <td>106.382980</td>\n      <td>152.068078</td>\n      <td>male, 18-24, LINK_CLICKS</td>\n    </tr>\n    <tr>\n      <th>137</th>\n      <td>146.083621</td>\n      <td>106.226122</td>\n      <td>unknown, 18-24, LINK_CLICKS</td>\n    </tr>\n    <tr>\n      <th>141</th>\n      <td>97.829609</td>\n      <td>245.307601</td>\n      <td>unknown, 25-34, LINK_CLICKS</td>\n    </tr>\n    <tr>\n      <th>149</th>\n      <td>44.965000</td>\n      <td>514.701770</td>\n      <td>unknown, 45-54, LINK_CLICKS</td>\n    </tr>\n    <tr>\n      <th>158</th>\n      <td>100.509665</td>\n      <td>300.473088</td>\n      <td>female, 18-24, NONE</td>\n    </tr>\n    <tr>\n      <th>160</th>\n      <td>66.077894</td>\n      <td>554.171911</td>\n      <td>female, 25-34, NONE</td>\n    </tr>\n    <tr>\n      <th>170</th>\n      <td>106.382980</td>\n      <td>152.068078</td>\n      <td>male, 18-24, NONE</td>\n    </tr>\n    <tr>\n      <th>182</th>\n      <td>146.083621</td>\n      <td>106.226122</td>\n      <td>unknown, 18-24, NONE</td>\n    </tr>\n    <tr>\n      <th>184</th>\n      <td>97.829609</td>\n      <td>245.307601</td>\n      <td>unknown, 25-34, NONE</td>\n    </tr>\n    <tr>\n      <th>188</th>\n      <td>44.965000</td>\n      <td>514.701770</td>\n      <td>unknown, 45-54, NONE</td>\n    </tr>\n    <tr>\n      <th>207</th>\n      <td>103.647800</td>\n      <td>195.152049</td>\n      <td>18-24, LINK_CLICKS, NONE</td>\n    </tr>\n    <tr>\n      <th>224</th>\n      <td>17.815863</td>\n      <td>593.034735</td>\n      <td>55-64, OUTCOME_SALES, Unknown Optimization Goal</td>\n    </tr>\n    <tr>\n      <th>230</th>\n      <td>100.509665</td>\n      <td>300.473088</td>\n      <td>female, 18-24, LINK_CLICKS, NONE</td>\n    </tr>\n    <tr>\n      <th>234</th>\n      <td>66.077894</td>\n      <td>554.171911</td>\n      <td>female, 25-34, LINK_CLICKS, NONE</td>\n    </tr>\n    <tr>\n      <th>243</th>\n      <td>12.968593</td>\n      <td>709.760115</td>\n      <td>female, 45-54, OUTCOME_SALES, Unknown Optimiza...</td>\n    </tr>\n    <tr>\n      <th>247</th>\n      <td>13.770164</td>\n      <td>1015.363687</td>\n      <td>female, 55-64, OUTCOME_SALES, Unknown Optimiza...</td>\n    </tr>\n    <tr>\n      <th>253</th>\n      <td>106.382980</td>\n      <td>152.068078</td>\n      <td>male, 18-24, LINK_CLICKS, NONE</td>\n    </tr>\n    <tr>\n      <th>276</th>\n      <td>146.083621</td>\n      <td>106.226122</td>\n      <td>unknown, 18-24, LINK_CLICKS, NONE</td>\n    </tr>\n    <tr>\n      <th>280</th>\n      <td>97.829609</td>\n      <td>245.307601</td>\n      <td>unknown, 25-34, LINK_CLICKS, NONE</td>\n    </tr>\n    <tr>\n      <th>288</th>\n      <td>44.965000</td>\n      <td>514.701770</td>\n      <td>unknown, 45-54, LINK_CLICKS, NONE</td>\n    </tr>\n  </tbody>\n</table>\n</div>"
     },
     "execution_count": 48,
     "metadata": {},
     "output_type": "execute_result"
    }
   ],
   "source": [
    "df_combinations"
   ],
   "metadata": {
    "collapsed": false,
    "ExecuteTime": {
     "end_time": "2024-02-20T12:49:38.876561Z",
     "start_time": "2024-02-20T12:49:38.873797Z"
    }
   },
   "execution_count": 48
  },
  {
   "cell_type": "code",
   "outputs": [],
   "source": [],
   "metadata": {
    "collapsed": false
   }
  }
 ],
 "metadata": {
  "accelerator": "TPU",
  "colab": {
   "provenance": []
  },
  "kernelspec": {
   "display_name": "Python 3 (ipykernel)",
   "language": "python",
   "name": "python3"
  },
  "language_info": {
   "codemirror_mode": {
    "name": "ipython",
    "version": 3
   },
   "file_extension": ".py",
   "mimetype": "text/x-python",
   "name": "python",
   "nbconvert_exporter": "python",
   "pygments_lexer": "ipython3",
   "version": "3.10.11"
  }
 },
 "nbformat": 4,
 "nbformat_minor": 4
}
