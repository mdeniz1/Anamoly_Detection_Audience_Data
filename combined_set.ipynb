{
 "cells": [
  {
   "cell_type": "code",
   "execution_count": 21,
   "metadata": {
    "id": "_bQs67XIU9C2",
    "ExecuteTime": {
     "end_time": "2024-02-20T09:55:03.418666Z",
     "start_time": "2024-02-20T09:55:03.412450Z"
    }
   },
   "outputs": [],
   "source": [
    "from kmodes.kprototypes import KPrototypes\n",
    "import pandas as pd\n",
    "pd.set_option('display.max_rows', None)\n",
    "pd.set_option('display.max_columns', None)\n",
    "import numpy as np\n",
    "from sklearn.preprocessing import MinMaxScaler\n",
    "import itertools\n",
    "from sklearn.ensemble import IsolationForest\n"
   ]
  },
  {
   "cell_type": "code",
   "execution_count": 22,
   "metadata": {
    "id": "H_ZxO5sk9fXG",
    "ExecuteTime": {
     "end_time": "2024-02-20T10:06:39.686816Z",
     "start_time": "2024-02-20T10:06:39.675423Z"
    }
   },
   "outputs": [],
   "source": [
    "path = '/Users/mehmetdeniz/Library/CloudStorage/GoogleDrive-mehmetbakideniz@gmail.com/My Drive/meta_audience_insights_age_data.csv'\n",
    "df1=pd.read_csv(path)"
   ]
  },
  {
   "cell_type": "code",
   "execution_count": 42,
   "metadata": {
    "id": "i-yV6IN-V2CA",
    "ExecuteTime": {
     "end_time": "2024-02-20T11:42:45.419514Z",
     "start_time": "2024-02-20T11:42:45.415848Z"
    }
   },
   "outputs": [],
   "source": [
    "def combined_set_anomaly(df, columns_category, columns_metric): \n",
    "# Define the columns for grouping and aggregation\n",
    "\n",
    "    aggregations = {'cost': 'sum', 'clicks': 'sum', 'purchase_value': 'sum', 'install': 'sum', 'impressions': 'sum','purchase': 'sum' }\n",
    "    \n",
    "    # Initialize an empty list to store the grouped DataFrames\n",
    "    grouped_dfs = []\n",
    "    \n",
    "    # Perform grouping operations for different combinations of columns\n",
    "    for i in range(1, len(columns_category) + 1):\n",
    "        combinations = itertools.combinations(columns_category, i)\n",
    "        for combo in combinations:\n",
    "            grouped_df = df.groupby(list(combo)).agg(aggregations).reset_index()\n",
    "            \n",
    "            grouped_dfs.append(grouped_df)\n",
    "            \n",
    "    df2 = pd.concat(grouped_dfs, axis=0, join='outer')\n",
    "    df2['cpm'] = np.where(df2['impressions'] != 0, (df2['cost'] / df2['impressions'])*1000, 0)\n",
    "    df2['cr'] = np.where(df2['clicks'] != 0, df2['purchase'] / df2['clicks'], 0)\n",
    "    df2['cpi'] = np.where(df2['install'] != 0, df2['cost'] / df2['install'], 0)\n",
    "    df2['ctr'] = np.where(df2['clicks'] != 0, df2['impressions'] / df2['clicks'], 0)\n",
    "    df2['cpc'] = np.where(df2['clicks'] != 0, df2['cost'] / df2['clicks'], 0)\n",
    "    df2['roas']=np.where(df2['cost'] != 0, df2['purchase_value'] / df2['cost'], 0)\n",
    "    df2.drop(['clicks', 'purchase_value', 'cost', 'install', 'impressions','purchase'], axis=1, inplace= True )\n",
    "    df2.reset_index(inplace=True, drop=True)\n",
    "    df2['combinations'] = df2[columns_category].apply(lambda x: ', '.join(x.dropna().astype(str)), axis=1)\n",
    "    df2 = df2.drop(columns=columns_category)\n",
    "    #df2.drop(['index'], axis=1, inplace= True )\n",
    "    \n",
    "    \n",
    "    # Create a new DataFrame with only the columns of interest\n",
    "    df_subset = df2[columns_metric]\n",
    "    \n",
    "    # Create an instance of the IsolationForest model\n",
    "    isolation_forest = IsolationForest(n_estimators=100,max_samples='auto',contamination=float(0.1))\n",
    "    \n",
    "    # Fit the model on the data\n",
    "    isolation_forest.fit(df_subset)\n",
    "    \n",
    "    # Predict anomalies for the data points\n",
    "    predictions = isolation_forest.predict(df_subset)\n",
    "    \n",
    "    # Add the \"IsAnomaly\" column to df2\n",
    "    df2['IsAnomaly'] = predictions\n",
    "    df2=df2[df2['IsAnomaly'] ==-1]\n",
    "    df2 = df2.drop(columns='IsAnomaly')\n",
    "\n",
    "    return df2\n"
   ]
  },
  {
   "cell_type": "code",
   "outputs": [],
   "source": [
    "columns = ['gender', 'age', 'campaign_type', 'optimization_strategy']\n",
    "columns_of_interest = ['ctr', 'cpi']\n",
    "df_combinations=combined_set_anomaly(df1, columns, columns_of_interest )"
   ],
   "metadata": {
    "collapsed": false,
    "ExecuteTime": {
     "end_time": "2024-02-20T11:42:47.895082Z",
     "start_time": "2024-02-20T11:42:47.795973Z"
    }
   },
   "execution_count": 43
  },
  {
   "cell_type": "code",
   "outputs": [
    {
     "data": {
      "text/plain": "28"
     },
     "execution_count": 45,
     "metadata": {},
     "output_type": "execute_result"
    }
   ],
   "source": [
    "len(df_combinations)"
   ],
   "metadata": {
    "collapsed": false,
    "ExecuteTime": {
     "end_time": "2024-02-20T11:43:04.025996Z",
     "start_time": "2024-02-20T11:43:04.023896Z"
    }
   },
   "execution_count": 45
  },
  {
   "cell_type": "code",
   "outputs": [],
   "source": [],
   "metadata": {
    "collapsed": false
   }
  }
 ],
 "metadata": {
  "accelerator": "TPU",
  "colab": {
   "provenance": []
  },
  "kernelspec": {
   "display_name": "Python 3 (ipykernel)",
   "language": "python",
   "name": "python3"
  },
  "language_info": {
   "codemirror_mode": {
    "name": "ipython",
    "version": 3
   },
   "file_extension": ".py",
   "mimetype": "text/x-python",
   "name": "python",
   "nbconvert_exporter": "python",
   "pygments_lexer": "ipython3",
   "version": "3.10.11"
  }
 },
 "nbformat": 4,
 "nbformat_minor": 4
}
