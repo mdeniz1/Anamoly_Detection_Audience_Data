{
 "cells": [
  {
   "cell_type": "code",
   "execution_count": 1,
   "metadata": {
    "ExecuteTime": {
     "end_time": "2024-02-20T09:38:25.604344Z",
     "start_time": "2024-02-20T09:38:25.599753Z"
    },
    "id": "_bQs67XIU9C2"
   },
   "outputs": [],
   "source": [
    "from kmodes.kprototypes import KPrototypes\n",
    "import pandas as pd\n",
    "pd.set_option('display.max_rows', None)\n",
    "pd.set_option('display.max_columns', None)\n",
    "import numpy as np\n",
    "from sklearn.preprocessing import MinMaxScaler\n",
    "import itertools\n"
   ]
  },
  {
   "cell_type": "code",
   "execution_count": 2,
   "metadata": {
    "ExecuteTime": {
     "end_time": "2024-02-20T09:38:27.343099Z",
     "start_time": "2024-02-20T09:38:27.333083Z"
    },
    "id": "H_ZxO5sk9fXG"
   },
   "outputs": [],
   "source": [
    "path = '/Users/mehmetdeniz/Library/CloudStorage/GoogleDrive-mehmetbakideniz@gmail.com/My Drive/meta_audience_insights_age_data.csv'\n",
    "df=pd.read_csv(path)"
   ]
  },
  {
   "cell_type": "code",
   "execution_count": 3,
   "metadata": {
    "ExecuteTime": {
     "end_time": "2024-02-20T09:38:27.739144Z",
     "start_time": "2024-02-20T09:38:27.735465Z"
    }
   },
   "outputs": [
    {
     "data": {
      "text/html": [
       "<div>\n",
       "<style scoped>\n",
       "    .dataframe tbody tr th:only-of-type {\n",
       "        vertical-align: middle;\n",
       "    }\n",
       "\n",
       "    .dataframe tbody tr th {\n",
       "        vertical-align: top;\n",
       "    }\n",
       "\n",
       "    .dataframe thead th {\n",
       "        text-align: right;\n",
       "    }\n",
       "</style>\n",
       "<table border=\"1\" class=\"dataframe\">\n",
       "  <thead>\n",
       "    <tr style=\"text-align: right;\">\n",
       "      <th></th>\n",
       "      <th>id</th>\n",
       "      <th>schedule_id</th>\n",
       "      <th>page_view</th>\n",
       "      <th>engagement</th>\n",
       "      <th>all_leads</th>\n",
       "      <th>leads</th>\n",
       "      <th>install</th>\n",
       "      <th>purchase</th>\n",
       "      <th>add_to_cart</th>\n",
       "      <th>signup</th>\n",
       "      <th>begin_checkout</th>\n",
       "      <th>unspecified</th>\n",
       "      <th>page_view_value</th>\n",
       "      <th>all_leads_value</th>\n",
       "      <th>leads_value</th>\n",
       "      <th>install_value</th>\n",
       "      <th>purchase_value</th>\n",
       "      <th>add_to_cart_value</th>\n",
       "      <th>signup_value</th>\n",
       "      <th>begin_checkout_value</th>\n",
       "      <th>unspecified_value</th>\n",
       "      <th>campaign_budget</th>\n",
       "      <th>campaign_status</th>\n",
       "      <th>campaign_name</th>\n",
       "      <th>clicks</th>\n",
       "      <th>cpc</th>\n",
       "      <th>cpm</th>\n",
       "      <th>cpp</th>\n",
       "      <th>created_time</th>\n",
       "      <th>ctr</th>\n",
       "      <th>impressions</th>\n",
       "      <th>campaign_type</th>\n",
       "      <th>optimization_strategy</th>\n",
       "      <th>reach</th>\n",
       "      <th>social_spend</th>\n",
       "      <th>cost</th>\n",
       "      <th>gender</th>\n",
       "      <th>age</th>\n",
       "      <th>cpi</th>\n",
       "      <th>cr</th>\n",
       "      <th>roas</th>\n",
       "      <th>date_interval</th>\n",
       "    </tr>\n",
       "  </thead>\n",
       "  <tbody>\n",
       "    <tr>\n",
       "      <th>0</th>\n",
       "      <td>175455</td>\n",
       "      <td>901</td>\n",
       "      <td>7815.0</td>\n",
       "      <td>10691.0</td>\n",
       "      <td>0.0</td>\n",
       "      <td>0.0</td>\n",
       "      <td>0.0</td>\n",
       "      <td>20.0</td>\n",
       "      <td>108.0</td>\n",
       "      <td>0.0</td>\n",
       "      <td>163.0</td>\n",
       "      <td>0.0</td>\n",
       "      <td>38961.89</td>\n",
       "      <td>0.0</td>\n",
       "      <td>0.0</td>\n",
       "      <td>0.0</td>\n",
       "      <td>50361.23</td>\n",
       "      <td>304992.02</td>\n",
       "      <td>0.0</td>\n",
       "      <td>758350.52</td>\n",
       "      <td>0.0</td>\n",
       "      <td>NaN</td>\n",
       "      <td>NaN</td>\n",
       "      <td>dpa_ig_prospecting_sneaker</td>\n",
       "      <td>11771.0</td>\n",
       "      <td>0.49445</td>\n",
       "      <td>11.96777</td>\n",
       "      <td>NaN</td>\n",
       "      <td>NaN</td>\n",
       "      <td>0.02420</td>\n",
       "      <td>486323.0</td>\n",
       "      <td>PRODUCT_CATALOG_SALES</td>\n",
       "      <td>Unknown Optimization Goal</td>\n",
       "      <td>225782.0</td>\n",
       "      <td>NaN</td>\n",
       "      <td>5820.20</td>\n",
       "      <td>female</td>\n",
       "      <td>18-24</td>\n",
       "      <td>NaN</td>\n",
       "      <td>0.00170</td>\n",
       "      <td>8.65283</td>\n",
       "      <td>56</td>\n",
       "    </tr>\n",
       "    <tr>\n",
       "      <th>1</th>\n",
       "      <td>175456</td>\n",
       "      <td>901</td>\n",
       "      <td>6394.0</td>\n",
       "      <td>8131.0</td>\n",
       "      <td>0.0</td>\n",
       "      <td>0.0</td>\n",
       "      <td>0.0</td>\n",
       "      <td>12.0</td>\n",
       "      <td>71.0</td>\n",
       "      <td>0.0</td>\n",
       "      <td>117.0</td>\n",
       "      <td>0.0</td>\n",
       "      <td>28090.49</td>\n",
       "      <td>0.0</td>\n",
       "      <td>0.0</td>\n",
       "      <td>0.0</td>\n",
       "      <td>38238.21</td>\n",
       "      <td>193903.68</td>\n",
       "      <td>0.0</td>\n",
       "      <td>969837.36</td>\n",
       "      <td>0.0</td>\n",
       "      <td>NaN</td>\n",
       "      <td>NaN</td>\n",
       "      <td>dpa_ig_prospecting_sneaker</td>\n",
       "      <td>8800.0</td>\n",
       "      <td>0.45893</td>\n",
       "      <td>11.64267</td>\n",
       "      <td>NaN</td>\n",
       "      <td>NaN</td>\n",
       "      <td>0.02537</td>\n",
       "      <td>346874.0</td>\n",
       "      <td>PRODUCT_CATALOG_SALES</td>\n",
       "      <td>Unknown Optimization Goal</td>\n",
       "      <td>136954.0</td>\n",
       "      <td>NaN</td>\n",
       "      <td>4038.54</td>\n",
       "      <td>male</td>\n",
       "      <td>18-24</td>\n",
       "      <td>NaN</td>\n",
       "      <td>0.00136</td>\n",
       "      <td>9.46833</td>\n",
       "      <td>56</td>\n",
       "    </tr>\n",
       "    <tr>\n",
       "      <th>2</th>\n",
       "      <td>175457</td>\n",
       "      <td>901</td>\n",
       "      <td>70.0</td>\n",
       "      <td>130.0</td>\n",
       "      <td>0.0</td>\n",
       "      <td>0.0</td>\n",
       "      <td>0.0</td>\n",
       "      <td>0.0</td>\n",
       "      <td>3.0</td>\n",
       "      <td>0.0</td>\n",
       "      <td>1.0</td>\n",
       "      <td>0.0</td>\n",
       "      <td>619.97</td>\n",
       "      <td>0.0</td>\n",
       "      <td>0.0</td>\n",
       "      <td>0.0</td>\n",
       "      <td>0.00</td>\n",
       "      <td>14798.10</td>\n",
       "      <td>0.0</td>\n",
       "      <td>7999.90</td>\n",
       "      <td>0.0</td>\n",
       "      <td>NaN</td>\n",
       "      <td>NaN</td>\n",
       "      <td>dpa_ig_prospecting_sneaker</td>\n",
       "      <td>136.0</td>\n",
       "      <td>0.52434</td>\n",
       "      <td>14.06786</td>\n",
       "      <td>NaN</td>\n",
       "      <td>NaN</td>\n",
       "      <td>0.02683</td>\n",
       "      <td>5069.0</td>\n",
       "      <td>PRODUCT_CATALOG_SALES</td>\n",
       "      <td>Unknown Optimization Goal</td>\n",
       "      <td>1792.0</td>\n",
       "      <td>NaN</td>\n",
       "      <td>71.31</td>\n",
       "      <td>unknown</td>\n",
       "      <td>18-24</td>\n",
       "      <td>NaN</td>\n",
       "      <td>0.00000</td>\n",
       "      <td>0.00000</td>\n",
       "      <td>56</td>\n",
       "    </tr>\n",
       "    <tr>\n",
       "      <th>3</th>\n",
       "      <td>175458</td>\n",
       "      <td>901</td>\n",
       "      <td>8752.0</td>\n",
       "      <td>12094.0</td>\n",
       "      <td>0.0</td>\n",
       "      <td>0.0</td>\n",
       "      <td>0.0</td>\n",
       "      <td>14.0</td>\n",
       "      <td>71.0</td>\n",
       "      <td>0.0</td>\n",
       "      <td>132.0</td>\n",
       "      <td>0.0</td>\n",
       "      <td>26627.10</td>\n",
       "      <td>0.0</td>\n",
       "      <td>0.0</td>\n",
       "      <td>0.0</td>\n",
       "      <td>41088.52</td>\n",
       "      <td>214216.45</td>\n",
       "      <td>0.0</td>\n",
       "      <td>726487.30</td>\n",
       "      <td>0.0</td>\n",
       "      <td>NaN</td>\n",
       "      <td>NaN</td>\n",
       "      <td>dpa_ig_prospecting_sneaker</td>\n",
       "      <td>13246.0</td>\n",
       "      <td>0.50062</td>\n",
       "      <td>16.20660</td>\n",
       "      <td>NaN</td>\n",
       "      <td>NaN</td>\n",
       "      <td>0.03237</td>\n",
       "      <td>409171.0</td>\n",
       "      <td>PRODUCT_CATALOG_SALES</td>\n",
       "      <td>Unknown Optimization Goal</td>\n",
       "      <td>197111.0</td>\n",
       "      <td>NaN</td>\n",
       "      <td>6631.27</td>\n",
       "      <td>female</td>\n",
       "      <td>25-34</td>\n",
       "      <td>NaN</td>\n",
       "      <td>0.00106</td>\n",
       "      <td>6.19618</td>\n",
       "      <td>56</td>\n",
       "    </tr>\n",
       "    <tr>\n",
       "      <th>4</th>\n",
       "      <td>175459</td>\n",
       "      <td>901</td>\n",
       "      <td>10642.0</td>\n",
       "      <td>13677.0</td>\n",
       "      <td>0.0</td>\n",
       "      <td>0.0</td>\n",
       "      <td>0.0</td>\n",
       "      <td>13.0</td>\n",
       "      <td>62.0</td>\n",
       "      <td>0.0</td>\n",
       "      <td>123.0</td>\n",
       "      <td>0.0</td>\n",
       "      <td>30167.35</td>\n",
       "      <td>0.0</td>\n",
       "      <td>0.0</td>\n",
       "      <td>0.0</td>\n",
       "      <td>38577.77</td>\n",
       "      <td>189660.10</td>\n",
       "      <td>0.0</td>\n",
       "      <td>778741.02</td>\n",
       "      <td>0.0</td>\n",
       "      <td>NaN</td>\n",
       "      <td>NaN</td>\n",
       "      <td>dpa_ig_prospecting_sneaker</td>\n",
       "      <td>14547.0</td>\n",
       "      <td>0.47470</td>\n",
       "      <td>16.50060</td>\n",
       "      <td>NaN</td>\n",
       "      <td>NaN</td>\n",
       "      <td>0.03476</td>\n",
       "      <td>418498.0</td>\n",
       "      <td>PRODUCT_CATALOG_SALES</td>\n",
       "      <td>Unknown Optimization Goal</td>\n",
       "      <td>189943.0</td>\n",
       "      <td>NaN</td>\n",
       "      <td>6905.47</td>\n",
       "      <td>male</td>\n",
       "      <td>25-34</td>\n",
       "      <td>NaN</td>\n",
       "      <td>0.00089</td>\n",
       "      <td>5.58655</td>\n",
       "      <td>56</td>\n",
       "    </tr>\n",
       "  </tbody>\n",
       "</table>\n",
       "</div>"
      ],
      "text/plain": [
       "       id  schedule_id  page_view  engagement  all_leads  leads  install  \\\n",
       "0  175455          901     7815.0     10691.0        0.0    0.0      0.0   \n",
       "1  175456          901     6394.0      8131.0        0.0    0.0      0.0   \n",
       "2  175457          901       70.0       130.0        0.0    0.0      0.0   \n",
       "3  175458          901     8752.0     12094.0        0.0    0.0      0.0   \n",
       "4  175459          901    10642.0     13677.0        0.0    0.0      0.0   \n",
       "\n",
       "   purchase  add_to_cart  signup  begin_checkout  unspecified  \\\n",
       "0      20.0        108.0     0.0           163.0          0.0   \n",
       "1      12.0         71.0     0.0           117.0          0.0   \n",
       "2       0.0          3.0     0.0             1.0          0.0   \n",
       "3      14.0         71.0     0.0           132.0          0.0   \n",
       "4      13.0         62.0     0.0           123.0          0.0   \n",
       "\n",
       "   page_view_value  all_leads_value  leads_value  install_value  \\\n",
       "0         38961.89              0.0          0.0            0.0   \n",
       "1         28090.49              0.0          0.0            0.0   \n",
       "2           619.97              0.0          0.0            0.0   \n",
       "3         26627.10              0.0          0.0            0.0   \n",
       "4         30167.35              0.0          0.0            0.0   \n",
       "\n",
       "   purchase_value  add_to_cart_value  signup_value  begin_checkout_value  \\\n",
       "0        50361.23          304992.02           0.0             758350.52   \n",
       "1        38238.21          193903.68           0.0             969837.36   \n",
       "2            0.00           14798.10           0.0               7999.90   \n",
       "3        41088.52          214216.45           0.0             726487.30   \n",
       "4        38577.77          189660.10           0.0             778741.02   \n",
       "\n",
       "   unspecified_value  campaign_budget  campaign_status  \\\n",
       "0                0.0              NaN              NaN   \n",
       "1                0.0              NaN              NaN   \n",
       "2                0.0              NaN              NaN   \n",
       "3                0.0              NaN              NaN   \n",
       "4                0.0              NaN              NaN   \n",
       "\n",
       "                campaign_name   clicks      cpc       cpm  cpp  created_time  \\\n",
       "0  dpa_ig_prospecting_sneaker  11771.0  0.49445  11.96777  NaN           NaN   \n",
       "1  dpa_ig_prospecting_sneaker   8800.0  0.45893  11.64267  NaN           NaN   \n",
       "2  dpa_ig_prospecting_sneaker    136.0  0.52434  14.06786  NaN           NaN   \n",
       "3  dpa_ig_prospecting_sneaker  13246.0  0.50062  16.20660  NaN           NaN   \n",
       "4  dpa_ig_prospecting_sneaker  14547.0  0.47470  16.50060  NaN           NaN   \n",
       "\n",
       "       ctr  impressions          campaign_type      optimization_strategy  \\\n",
       "0  0.02420     486323.0  PRODUCT_CATALOG_SALES  Unknown Optimization Goal   \n",
       "1  0.02537     346874.0  PRODUCT_CATALOG_SALES  Unknown Optimization Goal   \n",
       "2  0.02683       5069.0  PRODUCT_CATALOG_SALES  Unknown Optimization Goal   \n",
       "3  0.03237     409171.0  PRODUCT_CATALOG_SALES  Unknown Optimization Goal   \n",
       "4  0.03476     418498.0  PRODUCT_CATALOG_SALES  Unknown Optimization Goal   \n",
       "\n",
       "      reach  social_spend     cost   gender    age  cpi       cr     roas  \\\n",
       "0  225782.0           NaN  5820.20   female  18-24  NaN  0.00170  8.65283   \n",
       "1  136954.0           NaN  4038.54     male  18-24  NaN  0.00136  9.46833   \n",
       "2    1792.0           NaN    71.31  unknown  18-24  NaN  0.00000  0.00000   \n",
       "3  197111.0           NaN  6631.27   female  25-34  NaN  0.00106  6.19618   \n",
       "4  189943.0           NaN  6905.47     male  25-34  NaN  0.00089  5.58655   \n",
       "\n",
       "   date_interval  \n",
       "0             56  \n",
       "1             56  \n",
       "2             56  \n",
       "3             56  \n",
       "4             56  "
      ]
     },
     "execution_count": 3,
     "metadata": {},
     "output_type": "execute_result"
    }
   ],
   "source": [
    "df.head()"
   ]
  },
  {
   "cell_type": "code",
   "execution_count": 4,
   "metadata": {
    "ExecuteTime": {
     "end_time": "2024-02-20T09:38:28.324289Z",
     "start_time": "2024-02-20T09:38:28.307724Z"
    },
    "id": "i-yV6IN-V2CA"
   },
   "outputs": [],
   "source": [
    "\n",
    "# Define the columns for grouping and aggregation\n",
    "columns = ['gender', 'age', 'campaign_type', 'optimization_strategy']\n",
    "aggregations = {'cost': 'sum', 'clicks': 'sum', 'purchase_value': 'sum'}\n",
    "\n",
    "# Initialize an empty list to store the grouped DataFrames\n",
    "grouped_dfs = []\n",
    "\n",
    "# Perform grouping operations for different combinations of columns\n",
    "for i in range(1, len(columns) + 1):\n",
    "    combinations = itertools.combinations(columns, i)\n",
    "    for combo in combinations:\n",
    "        grouped_df = df.groupby(list(combo)).agg(aggregations).reset_index()\n",
    "        #grouped_df['combinations'] = grouped_df[combo].apply(lambda x: ' '.join(x.dropna().astype(str)), axis=1)\n",
    "\n",
    "        grouped_dfs.append(grouped_df)\n",
    "        \n",
    "df2 = pd.concat(grouped_dfs, axis=0, join='outer')\n",
    "\n",
    "# merged_df will contain the final merged DataFrame"
   ]
  },
  {
   "cell_type": "code",
   "execution_count": 5,
   "metadata": {
    "ExecuteTime": {
     "end_time": "2024-02-20T09:38:29.118852Z",
     "start_time": "2024-02-20T09:38:29.115452Z"
    },
    "collapsed": false,
    "jupyter": {
     "outputs_hidden": false
    }
   },
   "outputs": [
    {
     "data": {
      "text/html": [
       "<div>\n",
       "<style scoped>\n",
       "    .dataframe tbody tr th:only-of-type {\n",
       "        vertical-align: middle;\n",
       "    }\n",
       "\n",
       "    .dataframe tbody tr th {\n",
       "        vertical-align: top;\n",
       "    }\n",
       "\n",
       "    .dataframe thead th {\n",
       "        text-align: right;\n",
       "    }\n",
       "</style>\n",
       "<table border=\"1\" class=\"dataframe\">\n",
       "  <thead>\n",
       "    <tr style=\"text-align: right;\">\n",
       "      <th></th>\n",
       "      <th>gender</th>\n",
       "      <th>cost</th>\n",
       "      <th>clicks</th>\n",
       "      <th>purchase_value</th>\n",
       "      <th>age</th>\n",
       "      <th>campaign_type</th>\n",
       "      <th>optimization_strategy</th>\n",
       "    </tr>\n",
       "  </thead>\n",
       "  <tbody>\n",
       "    <tr>\n",
       "      <th>0</th>\n",
       "      <td>female</td>\n",
       "      <td>946650.03348</td>\n",
       "      <td>1371121.0</td>\n",
       "      <td>9438829.50</td>\n",
       "      <td>NaN</td>\n",
       "      <td>NaN</td>\n",
       "      <td>NaN</td>\n",
       "    </tr>\n",
       "    <tr>\n",
       "      <th>1</th>\n",
       "      <td>male</td>\n",
       "      <td>906833.70359</td>\n",
       "      <td>1137256.0</td>\n",
       "      <td>9997000.03</td>\n",
       "      <td>NaN</td>\n",
       "      <td>NaN</td>\n",
       "      <td>NaN</td>\n",
       "    </tr>\n",
       "    <tr>\n",
       "      <th>2</th>\n",
       "      <td>unknown</td>\n",
       "      <td>18259.13359</td>\n",
       "      <td>21788.0</td>\n",
       "      <td>263759.36</td>\n",
       "      <td>NaN</td>\n",
       "      <td>NaN</td>\n",
       "      <td>NaN</td>\n",
       "    </tr>\n",
       "    <tr>\n",
       "      <th>0</th>\n",
       "      <td>NaN</td>\n",
       "      <td>646356.19327</td>\n",
       "      <td>878412.0</td>\n",
       "      <td>7411329.39</td>\n",
       "      <td>18-24</td>\n",
       "      <td>NaN</td>\n",
       "      <td>NaN</td>\n",
       "    </tr>\n",
       "    <tr>\n",
       "      <th>1</th>\n",
       "      <td>NaN</td>\n",
       "      <td>641755.16039</td>\n",
       "      <td>890027.0</td>\n",
       "      <td>7164112.44</td>\n",
       "      <td>25-34</td>\n",
       "      <td>NaN</td>\n",
       "      <td>NaN</td>\n",
       "    </tr>\n",
       "  </tbody>\n",
       "</table>\n",
       "</div>"
      ],
      "text/plain": [
       "    gender          cost     clicks  purchase_value    age campaign_type  \\\n",
       "0   female  946650.03348  1371121.0      9438829.50    NaN           NaN   \n",
       "1     male  906833.70359  1137256.0      9997000.03    NaN           NaN   \n",
       "2  unknown   18259.13359    21788.0       263759.36    NaN           NaN   \n",
       "0      NaN  646356.19327   878412.0      7411329.39  18-24           NaN   \n",
       "1      NaN  641755.16039   890027.0      7164112.44  25-34           NaN   \n",
       "\n",
       "  optimization_strategy  \n",
       "0                   NaN  \n",
       "1                   NaN  \n",
       "2                   NaN  \n",
       "0                   NaN  \n",
       "1                   NaN  "
      ]
     },
     "execution_count": 5,
     "metadata": {},
     "output_type": "execute_result"
    }
   ],
   "source": [
    "df2.head()"
   ]
  },
  {
   "cell_type": "code",
   "execution_count": 6,
   "metadata": {
    "ExecuteTime": {
     "end_time": "2024-02-20T09:38:29.969118Z",
     "start_time": "2024-02-20T09:38:29.967449Z"
    },
    "id": "XOs0gAZsy0kp"
   },
   "outputs": [],
   "source": [
    "df2['cpc'] = np.where(df2['clicks'] != 0, df2['cost'] / df2['clicks'], 0)\n",
    "df2['roas']=np.where(df2['cost'] != 0, df2['purchase_value'] / df2['cost'], 0)\n",
    "df2.drop(['clicks', 'purchase_value', 'cost'], axis=1, inplace= True )"
   ]
  },
  {
   "cell_type": "code",
   "execution_count": 7,
   "metadata": {
    "ExecuteTime": {
     "end_time": "2024-02-20T09:38:30.720141Z",
     "start_time": "2024-02-20T09:38:30.714196Z"
    },
    "id": "aIQ7LUjJ7a3M"
   },
   "outputs": [
    {
     "data": {
      "text/html": [
       "<div>\n",
       "<style scoped>\n",
       "    .dataframe tbody tr th:only-of-type {\n",
       "        vertical-align: middle;\n",
       "    }\n",
       "\n",
       "    .dataframe tbody tr th {\n",
       "        vertical-align: top;\n",
       "    }\n",
       "\n",
       "    .dataframe thead th {\n",
       "        text-align: right;\n",
       "    }\n",
       "</style>\n",
       "<table border=\"1\" class=\"dataframe\">\n",
       "  <thead>\n",
       "    <tr style=\"text-align: right;\">\n",
       "      <th></th>\n",
       "      <th>gender</th>\n",
       "      <th>age</th>\n",
       "      <th>campaign_type</th>\n",
       "      <th>optimization_strategy</th>\n",
       "      <th>cpc</th>\n",
       "      <th>roas</th>\n",
       "    </tr>\n",
       "  </thead>\n",
       "  <tbody>\n",
       "    <tr>\n",
       "      <th>0</th>\n",
       "      <td>female</td>\n",
       "      <td>NaN</td>\n",
       "      <td>NaN</td>\n",
       "      <td>NaN</td>\n",
       "      <td>0.690420</td>\n",
       "      <td>9.970770</td>\n",
       "    </tr>\n",
       "    <tr>\n",
       "      <th>1</th>\n",
       "      <td>male</td>\n",
       "      <td>NaN</td>\n",
       "      <td>NaN</td>\n",
       "      <td>NaN</td>\n",
       "      <td>0.797387</td>\n",
       "      <td>11.024072</td>\n",
       "    </tr>\n",
       "    <tr>\n",
       "      <th>2</th>\n",
       "      <td>unknown</td>\n",
       "      <td>NaN</td>\n",
       "      <td>NaN</td>\n",
       "      <td>NaN</td>\n",
       "      <td>0.838036</td>\n",
       "      <td>14.445338</td>\n",
       "    </tr>\n",
       "    <tr>\n",
       "      <th>0</th>\n",
       "      <td>NaN</td>\n",
       "      <td>18-24</td>\n",
       "      <td>NaN</td>\n",
       "      <td>NaN</td>\n",
       "      <td>0.735824</td>\n",
       "      <td>11.466324</td>\n",
       "    </tr>\n",
       "    <tr>\n",
       "      <th>1</th>\n",
       "      <td>NaN</td>\n",
       "      <td>25-34</td>\n",
       "      <td>NaN</td>\n",
       "      <td>NaN</td>\n",
       "      <td>0.721051</td>\n",
       "      <td>11.163311</td>\n",
       "    </tr>\n",
       "  </tbody>\n",
       "</table>\n",
       "</div>"
      ],
      "text/plain": [
       "    gender    age campaign_type optimization_strategy       cpc       roas\n",
       "0   female    NaN           NaN                   NaN  0.690420   9.970770\n",
       "1     male    NaN           NaN                   NaN  0.797387  11.024072\n",
       "2  unknown    NaN           NaN                   NaN  0.838036  14.445338\n",
       "0      NaN  18-24           NaN                   NaN  0.735824  11.466324\n",
       "1      NaN  25-34           NaN                   NaN  0.721051  11.163311"
      ]
     },
     "execution_count": 7,
     "metadata": {},
     "output_type": "execute_result"
    }
   ],
   "source": [
    "df2.head()"
   ]
  },
  {
   "cell_type": "code",
   "execution_count": 8,
   "metadata": {
    "ExecuteTime": {
     "end_time": "2024-02-20T09:38:31.375484Z",
     "start_time": "2024-02-20T09:38:31.373225Z"
    },
    "collapsed": false,
    "jupyter": {
     "outputs_hidden": false
    }
   },
   "outputs": [],
   "source": [
    "df2.reset_index(inplace=True, drop=True)"
   ]
  },
  {
   "cell_type": "code",
   "execution_count": 9,
   "metadata": {
    "ExecuteTime": {
     "end_time": "2024-02-20T09:38:32.082880Z",
     "start_time": "2024-02-20T09:38:32.074207Z"
    },
    "id": "P23yWTARYmsV"
   },
   "outputs": [],
   "source": [
    "import pandas as pd\n",
    "\n",
    "# Assuming df2 is your DataFrame\n",
    "columns = ['gender', 'age', 'campaign_type', 'optimization_strategy']\n",
    "\n",
    "# Create the 'combinations' column\n",
    "df2['combinations'] = df2[columns].apply(lambda x: ', '.join(x.dropna().astype(str)), axis=1)\n",
    "\n",
    "# Drop the original columns\n",
    "df2 = df2.drop(columns=columns)"
   ]
  },
  {
   "cell_type": "code",
   "execution_count": 10,
   "metadata": {
    "ExecuteTime": {
     "end_time": "2024-02-20T09:38:33.402517Z",
     "start_time": "2024-02-20T09:38:32.846457Z"
    },
    "collapsed": false,
    "jupyter": {
     "outputs_hidden": false
    }
   },
   "outputs": [
    {
     "ename": "KeyError",
     "evalue": "\"['index'] not found in axis\"",
     "output_type": "error",
     "traceback": [
      "\u001b[0;31m---------------------------------------------------------------------------\u001b[0m",
      "\u001b[0;31mKeyError\u001b[0m                                  Traceback (most recent call last)",
      "Cell \u001b[0;32mIn[10], line 1\u001b[0m\n\u001b[0;32m----> 1\u001b[0m \u001b[43mdf2\u001b[49m\u001b[38;5;241;43m.\u001b[39;49m\u001b[43mdrop\u001b[49m\u001b[43m(\u001b[49m\u001b[43m[\u001b[49m\u001b[38;5;124;43m'\u001b[39;49m\u001b[38;5;124;43mindex\u001b[39;49m\u001b[38;5;124;43m'\u001b[39;49m\u001b[43m]\u001b[49m\u001b[43m,\u001b[49m\u001b[43m \u001b[49m\u001b[43maxis\u001b[49m\u001b[38;5;241;43m=\u001b[39;49m\u001b[38;5;241;43m1\u001b[39;49m\u001b[43m,\u001b[49m\u001b[43m \u001b[49m\u001b[43minplace\u001b[49m\u001b[38;5;241;43m=\u001b[39;49m\u001b[43m \u001b[49m\u001b[38;5;28;43;01mTrue\u001b[39;49;00m\u001b[43m \u001b[49m\u001b[43m)\u001b[49m\n",
      "File \u001b[0;32m~/PycharmProjects/Anamoly_D/.venv/lib/python3.10/site-packages/pandas/core/frame.py:5568\u001b[0m, in \u001b[0;36mDataFrame.drop\u001b[0;34m(self, labels, axis, index, columns, level, inplace, errors)\u001b[0m\n\u001b[1;32m   5420\u001b[0m \u001b[38;5;28;01mdef\u001b[39;00m \u001b[38;5;21mdrop\u001b[39m(\n\u001b[1;32m   5421\u001b[0m     \u001b[38;5;28mself\u001b[39m,\n\u001b[1;32m   5422\u001b[0m     labels: IndexLabel \u001b[38;5;241m|\u001b[39m \u001b[38;5;28;01mNone\u001b[39;00m \u001b[38;5;241m=\u001b[39m \u001b[38;5;28;01mNone\u001b[39;00m,\n\u001b[0;32m   (...)\u001b[0m\n\u001b[1;32m   5429\u001b[0m     errors: IgnoreRaise \u001b[38;5;241m=\u001b[39m \u001b[38;5;124m\"\u001b[39m\u001b[38;5;124mraise\u001b[39m\u001b[38;5;124m\"\u001b[39m,\n\u001b[1;32m   5430\u001b[0m ) \u001b[38;5;241m-\u001b[39m\u001b[38;5;241m>\u001b[39m DataFrame \u001b[38;5;241m|\u001b[39m \u001b[38;5;28;01mNone\u001b[39;00m:\n\u001b[1;32m   5431\u001b[0m \u001b[38;5;250m    \u001b[39m\u001b[38;5;124;03m\"\"\"\u001b[39;00m\n\u001b[1;32m   5432\u001b[0m \u001b[38;5;124;03m    Drop specified labels from rows or columns.\u001b[39;00m\n\u001b[1;32m   5433\u001b[0m \n\u001b[0;32m   (...)\u001b[0m\n\u001b[1;32m   5566\u001b[0m \u001b[38;5;124;03m            weight  1.0     0.8\u001b[39;00m\n\u001b[1;32m   5567\u001b[0m \u001b[38;5;124;03m    \"\"\"\u001b[39;00m\n\u001b[0;32m-> 5568\u001b[0m     \u001b[38;5;28;01mreturn\u001b[39;00m \u001b[38;5;28;43msuper\u001b[39;49m\u001b[43m(\u001b[49m\u001b[43m)\u001b[49m\u001b[38;5;241;43m.\u001b[39;49m\u001b[43mdrop\u001b[49m\u001b[43m(\u001b[49m\n\u001b[1;32m   5569\u001b[0m \u001b[43m        \u001b[49m\u001b[43mlabels\u001b[49m\u001b[38;5;241;43m=\u001b[39;49m\u001b[43mlabels\u001b[49m\u001b[43m,\u001b[49m\n\u001b[1;32m   5570\u001b[0m \u001b[43m        \u001b[49m\u001b[43maxis\u001b[49m\u001b[38;5;241;43m=\u001b[39;49m\u001b[43maxis\u001b[49m\u001b[43m,\u001b[49m\n\u001b[1;32m   5571\u001b[0m \u001b[43m        \u001b[49m\u001b[43mindex\u001b[49m\u001b[38;5;241;43m=\u001b[39;49m\u001b[43mindex\u001b[49m\u001b[43m,\u001b[49m\n\u001b[1;32m   5572\u001b[0m \u001b[43m        \u001b[49m\u001b[43mcolumns\u001b[49m\u001b[38;5;241;43m=\u001b[39;49m\u001b[43mcolumns\u001b[49m\u001b[43m,\u001b[49m\n\u001b[1;32m   5573\u001b[0m \u001b[43m        \u001b[49m\u001b[43mlevel\u001b[49m\u001b[38;5;241;43m=\u001b[39;49m\u001b[43mlevel\u001b[49m\u001b[43m,\u001b[49m\n\u001b[1;32m   5574\u001b[0m \u001b[43m        \u001b[49m\u001b[43minplace\u001b[49m\u001b[38;5;241;43m=\u001b[39;49m\u001b[43minplace\u001b[49m\u001b[43m,\u001b[49m\n\u001b[1;32m   5575\u001b[0m \u001b[43m        \u001b[49m\u001b[43merrors\u001b[49m\u001b[38;5;241;43m=\u001b[39;49m\u001b[43merrors\u001b[49m\u001b[43m,\u001b[49m\n\u001b[1;32m   5576\u001b[0m \u001b[43m    \u001b[49m\u001b[43m)\u001b[49m\n",
      "File \u001b[0;32m~/PycharmProjects/Anamoly_D/.venv/lib/python3.10/site-packages/pandas/core/generic.py:4782\u001b[0m, in \u001b[0;36mNDFrame.drop\u001b[0;34m(self, labels, axis, index, columns, level, inplace, errors)\u001b[0m\n\u001b[1;32m   4780\u001b[0m \u001b[38;5;28;01mfor\u001b[39;00m axis, labels \u001b[38;5;129;01min\u001b[39;00m axes\u001b[38;5;241m.\u001b[39mitems():\n\u001b[1;32m   4781\u001b[0m     \u001b[38;5;28;01mif\u001b[39;00m labels \u001b[38;5;129;01mis\u001b[39;00m \u001b[38;5;129;01mnot\u001b[39;00m \u001b[38;5;28;01mNone\u001b[39;00m:\n\u001b[0;32m-> 4782\u001b[0m         obj \u001b[38;5;241m=\u001b[39m \u001b[43mobj\u001b[49m\u001b[38;5;241;43m.\u001b[39;49m\u001b[43m_drop_axis\u001b[49m\u001b[43m(\u001b[49m\u001b[43mlabels\u001b[49m\u001b[43m,\u001b[49m\u001b[43m \u001b[49m\u001b[43maxis\u001b[49m\u001b[43m,\u001b[49m\u001b[43m \u001b[49m\u001b[43mlevel\u001b[49m\u001b[38;5;241;43m=\u001b[39;49m\u001b[43mlevel\u001b[49m\u001b[43m,\u001b[49m\u001b[43m \u001b[49m\u001b[43merrors\u001b[49m\u001b[38;5;241;43m=\u001b[39;49m\u001b[43merrors\u001b[49m\u001b[43m)\u001b[49m\n\u001b[1;32m   4784\u001b[0m \u001b[38;5;28;01mif\u001b[39;00m inplace:\n\u001b[1;32m   4785\u001b[0m     \u001b[38;5;28mself\u001b[39m\u001b[38;5;241m.\u001b[39m_update_inplace(obj)\n",
      "File \u001b[0;32m~/PycharmProjects/Anamoly_D/.venv/lib/python3.10/site-packages/pandas/core/generic.py:4824\u001b[0m, in \u001b[0;36mNDFrame._drop_axis\u001b[0;34m(self, labels, axis, level, errors, only_slice)\u001b[0m\n\u001b[1;32m   4822\u001b[0m         new_axis \u001b[38;5;241m=\u001b[39m axis\u001b[38;5;241m.\u001b[39mdrop(labels, level\u001b[38;5;241m=\u001b[39mlevel, errors\u001b[38;5;241m=\u001b[39merrors)\n\u001b[1;32m   4823\u001b[0m     \u001b[38;5;28;01melse\u001b[39;00m:\n\u001b[0;32m-> 4824\u001b[0m         new_axis \u001b[38;5;241m=\u001b[39m \u001b[43maxis\u001b[49m\u001b[38;5;241;43m.\u001b[39;49m\u001b[43mdrop\u001b[49m\u001b[43m(\u001b[49m\u001b[43mlabels\u001b[49m\u001b[43m,\u001b[49m\u001b[43m \u001b[49m\u001b[43merrors\u001b[49m\u001b[38;5;241;43m=\u001b[39;49m\u001b[43merrors\u001b[49m\u001b[43m)\u001b[49m\n\u001b[1;32m   4825\u001b[0m     indexer \u001b[38;5;241m=\u001b[39m axis\u001b[38;5;241m.\u001b[39mget_indexer(new_axis)\n\u001b[1;32m   4827\u001b[0m \u001b[38;5;66;03m# Case for non-unique axis\u001b[39;00m\n\u001b[1;32m   4828\u001b[0m \u001b[38;5;28;01melse\u001b[39;00m:\n",
      "File \u001b[0;32m~/PycharmProjects/Anamoly_D/.venv/lib/python3.10/site-packages/pandas/core/indexes/base.py:7069\u001b[0m, in \u001b[0;36mIndex.drop\u001b[0;34m(self, labels, errors)\u001b[0m\n\u001b[1;32m   7067\u001b[0m \u001b[38;5;28;01mif\u001b[39;00m mask\u001b[38;5;241m.\u001b[39many():\n\u001b[1;32m   7068\u001b[0m     \u001b[38;5;28;01mif\u001b[39;00m errors \u001b[38;5;241m!=\u001b[39m \u001b[38;5;124m\"\u001b[39m\u001b[38;5;124mignore\u001b[39m\u001b[38;5;124m\"\u001b[39m:\n\u001b[0;32m-> 7069\u001b[0m         \u001b[38;5;28;01mraise\u001b[39;00m \u001b[38;5;167;01mKeyError\u001b[39;00m(\u001b[38;5;124mf\u001b[39m\u001b[38;5;124m\"\u001b[39m\u001b[38;5;132;01m{\u001b[39;00mlabels[mask]\u001b[38;5;241m.\u001b[39mtolist()\u001b[38;5;132;01m}\u001b[39;00m\u001b[38;5;124m not found in axis\u001b[39m\u001b[38;5;124m\"\u001b[39m)\n\u001b[1;32m   7070\u001b[0m     indexer \u001b[38;5;241m=\u001b[39m indexer[\u001b[38;5;241m~\u001b[39mmask]\n\u001b[1;32m   7071\u001b[0m \u001b[38;5;28;01mreturn\u001b[39;00m \u001b[38;5;28mself\u001b[39m\u001b[38;5;241m.\u001b[39mdelete(indexer)\n",
      "\u001b[0;31mKeyError\u001b[0m: \"['index'] not found in axis\""
     ]
    }
   ],
   "source": [
    "df2.drop(['index'], axis=1, inplace= True )\n"
   ]
  },
  {
   "cell_type": "code",
   "execution_count": 11,
   "metadata": {
    "ExecuteTime": {
     "end_time": "2024-02-20T09:38:46.773753Z",
     "start_time": "2024-02-20T09:38:45.755603Z"
    },
    "collapsed": false,
    "jupyter": {
     "outputs_hidden": false
    }
   },
   "outputs": [],
   "source": [
    "from sklearn.ensemble import IsolationForest\n",
    "\n",
    "# Select the columns of interest\n",
    "columns_of_interest = ['roas', 'cpc']\n",
    "\n",
    "# Create a new DataFrame with only the columns of interest\n",
    "df_subset = df2[columns_of_interest]\n",
    "\n",
    "# Create an instance of the IsolationForest model\n",
    "isolation_forest = IsolationForest(n_estimators=100,max_samples='auto',contamination=float(0.1))\n",
    "\n",
    "# Fit the model on the data\n",
    "isolation_forest.fit(df_subset)\n",
    "\n",
    "# Predict anomalies for the data points\n",
    "predictions = isolation_forest.predict(df_subset)\n",
    "\n",
    "# Add the \"IsAnomaly\" column to df2\n",
    "df2['IsAnomaly'] = predictions"
   ]
  },
  {
   "cell_type": "code",
   "execution_count": 12,
   "metadata": {
    "ExecuteTime": {
     "end_time": "2024-02-20T09:38:49.337307Z",
     "start_time": "2024-02-20T09:38:49.330506Z"
    },
    "collapsed": false,
    "jupyter": {
     "outputs_hidden": false
    }
   },
   "outputs": [],
   "source": [
    "path = '/Users/mehmetdeniz/Library/CloudStorage/GoogleDrive-mehmetbakideniz@gmail.com/My Drive/result_ISF2.csv'\n",
    "\n",
    "df2[df2['IsAnomaly'] ==-1].to_csv(path)"
   ]
  },
  {
   "cell_type": "code",
   "execution_count": 13,
   "metadata": {
    "ExecuteTime": {
     "end_time": "2024-02-20T09:38:50.480090Z",
     "start_time": "2024-02-20T09:38:50.475482Z"
    },
    "collapsed": false,
    "jupyter": {
     "outputs_hidden": false
    }
   },
   "outputs": [
    {
     "data": {
      "text/plain": [
       "IsAnomaly\n",
       " 1    267\n",
       "-1     30\n",
       "Name: count, dtype: int64"
      ]
     },
     "execution_count": 13,
     "metadata": {},
     "output_type": "execute_result"
    }
   ],
   "source": [
    "df2['IsAnomaly'].value_counts()"
   ]
  },
  {
   "cell_type": "code",
   "execution_count": 14,
   "metadata": {
    "collapsed": false,
    "jupyter": {
     "outputs_hidden": false
    }
   },
   "outputs": [
    {
     "name": "stdout",
     "output_type": "stream",
     "text": [
      "hello\n"
     ]
    }
   ],
   "source": [
    "print('hello')"
   ]
  },
  {
   "cell_type": "code",
   "execution_count": null,
   "metadata": {},
   "outputs": [],
   "source": []
  }
 ],
 "metadata": {
  "accelerator": "TPU",
  "colab": {
   "provenance": []
  },
  "kernelspec": {
   "display_name": "Python 3 (ipykernel)",
   "language": "python",
   "name": "python3"
  },
  "language_info": {
   "codemirror_mode": {
    "name": "ipython",
    "version": 3
   },
   "file_extension": ".py",
   "mimetype": "text/x-python",
   "name": "python",
   "nbconvert_exporter": "python",
   "pygments_lexer": "ipython3",
   "version": "3.10.11"
  }
 },
 "nbformat": 4,
 "nbformat_minor": 4
}
