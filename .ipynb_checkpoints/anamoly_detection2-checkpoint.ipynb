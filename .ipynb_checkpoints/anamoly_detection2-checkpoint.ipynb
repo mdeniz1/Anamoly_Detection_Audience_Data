{
 "cells": [
  {
   "cell_type": "code",
   "execution_count": 1,
   "metadata": {
    "ExecuteTime": {
     "end_time": "2024-02-19T06:45:40.352860Z",
     "start_time": "2024-02-19T06:45:38.680171Z"
    },
    "id": "_bQs67XIU9C2"
   },
   "outputs": [],
   "source": [
    "from kmodes.kprototypes import KPrototypes\n",
    "import pandas as pd\n",
    "pd.set_option('display.max_rows', None)\n",
    "pd.set_option('display.max_columns', None)\n",
    "import numpy as np\n",
    "from sklearn.preprocessing import MinMaxScaler\n"
   ]
  },
  {
   "cell_type": "code",
   "execution_count": 2,
   "metadata": {
    "ExecuteTime": {
     "end_time": "2024-02-19T07:01:50.985678Z",
     "start_time": "2024-02-19T07:01:50.970621Z"
    },
    "id": "H_ZxO5sk9fXG"
   },
   "outputs": [],
   "source": [
    "path = '/Users/mehmetdeniz/Library/CloudStorage/GoogleDrive-mehmetbakideniz@gmail.com/My Drive/meta_audience_insights_age_data.csv'\n",
    "df=pd.read_csv(path)"
   ]
  },
  {
   "cell_type": "code",
   "execution_count": 3,
   "metadata": {
    "ExecuteTime": {
     "end_time": "2024-02-19T07:01:51.714745Z",
     "start_time": "2024-02-19T07:01:51.711951Z"
    },
    "id": "gTnGLtAf2xaK"
   },
   "outputs": [],
   "source": [
    "df=df[['clicks', 'cost', 'gender', 'age', 'campaign_type','purchase_value']]"
   ]
  },
  {
   "cell_type": "code",
   "execution_count": 4,
   "metadata": {
    "ExecuteTime": {
     "end_time": "2024-02-19T07:01:52.400989Z",
     "start_time": "2024-02-19T07:01:52.396271Z"
    },
    "id": "i-yV6IN-V2CA"
   },
   "outputs": [],
   "source": [
    "grouped = df.groupby(['gender', 'age', 'campaign_type'])\n",
    "\n",
    "df2 = grouped.agg({\n",
    "    'cost': 'sum',\n",
    "    'clicks': 'sum',\n",
    "    'purchase_value': 'sum'\n",
    "}).reset_index()\n",
    "\n"
   ]
  },
  {
   "cell_type": "code",
   "execution_count": 5,
   "metadata": {
    "ExecuteTime": {
     "end_time": "2024-02-19T07:01:53.873295Z",
     "start_time": "2024-02-19T07:01:53.870603Z"
    },
    "id": "XOs0gAZsy0kp"
   },
   "outputs": [],
   "source": [
    "df2['cpc'] = np.where(df2['clicks'] != 0, df2['cost'] / df2['clicks'], 0)\n",
    "df2['value/cost']=np.where(df2['cost'] != 0, df2['purchase_value'] / df2['cost'], 0)\n",
    "df2.drop(['clicks', 'purchase_value'], axis=1, inplace= True )"
   ]
  },
  {
   "cell_type": "code",
   "execution_count": 6,
   "metadata": {
    "ExecuteTime": {
     "end_time": "2024-02-19T07:01:54.568423Z",
     "start_time": "2024-02-19T07:01:54.565308Z"
    },
    "id": "aIQ7LUjJ7a3M"
   },
   "outputs": [
    {
     "data": {
      "text/plain": [
       "68"
      ]
     },
     "execution_count": 6,
     "metadata": {},
     "output_type": "execute_result"
    }
   ],
   "source": [
    "len(df2)"
   ]
  },
  {
   "cell_type": "code",
   "execution_count": null,
   "metadata": {
    "ExecuteTime": {
     "end_time": "2024-02-19T07:01:55.990163Z",
     "start_time": "2024-02-19T07:01:55.985378Z"
    },
    "id": "dNVWqdMaamfe"
   },
   "outputs": [],
   "source": []
  },
  {
   "cell_type": "code",
   "execution_count": 7,
   "metadata": {
    "ExecuteTime": {
     "end_time": "2024-02-19T07:01:56.633488Z",
     "start_time": "2024-02-19T07:01:56.630954Z"
    },
    "id": "P23yWTARYmsV"
   },
   "outputs": [],
   "source": [
    "categorical_columns = df2.select_dtypes(include=['object']).columns\n",
    "indexes = [df2.columns.get_loc(column) for column in categorical_columns]"
   ]
  },
  {
   "cell_type": "code",
   "execution_count": 8,
   "metadata": {
    "ExecuteTime": {
     "end_time": "2024-02-19T07:02:03.509010Z",
     "start_time": "2024-02-19T07:02:03.502964Z"
    },
    "id": "1CKEv0_6YxSV"
   },
   "outputs": [
    {
     "data": {
      "text/plain": [
       "[0, 1, 2]"
      ]
     },
     "execution_count": 8,
     "metadata": {},
     "output_type": "execute_result"
    }
   ],
   "source": [
    "indexes"
   ]
  },
  {
   "cell_type": "code",
   "execution_count": 9,
   "metadata": {
    "ExecuteTime": {
     "end_time": "2024-02-19T07:02:04.999903Z",
     "start_time": "2024-02-19T07:02:04.992845Z"
    },
    "id": "4dOTDQKPzPRM"
   },
   "outputs": [],
   "source": [
    "\n",
    "\n",
    "numerical_columns = df2.select_dtypes(include=[float, int]).columns\n",
    "# Instantiate the StandardScaler object and fit it on the selected numerical columns\n",
    "\n",
    "# Instantiate the MinMaxScaler object\n",
    "minmax_scaler = MinMaxScaler(feature_range=(-1, 1))\n",
    "\n",
    "# Apply MinMaxScaler to the standardized numerical columns\n",
    "df2[numerical_columns] = minmax_scaler.fit_transform(df2[numerical_columns])\n",
    "# Revert back to the original values\n",
    "\n",
    "#df2[numerical_columns] = pd.DataFrame(minmax_scaler.inverse_transform(df2[numerical_columns]), columns=numerical_columns)\n"
   ]
  },
  {
   "cell_type": "code",
   "execution_count": 10,
   "metadata": {
    "ExecuteTime": {
     "end_time": "2024-02-19T07:02:06.202929Z",
     "start_time": "2024-02-19T07:02:06.186284Z"
    },
    "id": "4gS137z9KMfo"
   },
   "outputs": [
    {
     "name": "stdout",
     "output_type": "stream",
     "text": [
      "Init: initializing centroids\n",
      "Init: initializing clusters\n",
      "Starting iterations...\n",
      "Run: 1, iteration: 1/100, moves: 0, ncost: 77.22982155074631\n",
      "Init: initializing centroids\n",
      "Init: initializing clusters\n",
      "Starting iterations...\n",
      "Run: 2, iteration: 1/100, moves: 0, ncost: 77.22982155074631\n",
      "Init: initializing centroids\n",
      "Init: initializing clusters\n",
      "Starting iterations...\n",
      "Run: 3, iteration: 1/100, moves: 0, ncost: 77.22982155074631\n",
      "Best run was number 1\n"
     ]
    },
    {
     "data": {
      "text/plain": [
       "array([0, 0, 0, 0, 0, 0, 0, 0, 0, 0, 0, 0, 0, 0, 0, 0, 0, 0, 0, 0, 0, 0,\n",
       "       0, 0, 0, 0, 0, 0, 0, 0, 0, 0, 0, 0, 0, 0, 0, 0, 0, 0, 0, 0, 0, 0,\n",
       "       0, 0, 0, 0, 0, 0, 0, 0, 0, 0, 0, 0, 0, 0, 0, 0, 0, 0, 0, 0, 0, 0,\n",
       "       0, 0], dtype=uint16)"
      ]
     },
     "execution_count": 10,
     "metadata": {},
     "output_type": "execute_result"
    }
   ],
   "source": [
    "kp = KPrototypes(n_clusters=1, init='Huang', n_init=3, verbose=True)\n",
    "kp.fit_predict(df2, categorical=indexes)\n",
    "\n"
   ]
  },
  {
   "cell_type": "code",
   "execution_count": 11,
   "metadata": {
    "ExecuteTime": {
     "end_time": "2024-02-19T06:52:32.799689Z",
     "start_time": "2024-02-19T06:52:32.795615Z"
    },
    "id": "QtytXgogbnZc"
   },
   "outputs": [
    {
     "name": "stdout",
     "output_type": "stream",
     "text": [
      "77.22982155074631\n"
     ]
    }
   ],
   "source": [
    "print(kp.cost_)\n"
   ]
  },
  {
   "cell_type": "code",
   "execution_count": 12,
   "metadata": {
    "ExecuteTime": {
     "end_time": "2024-02-19T07:02:14.338222Z",
     "start_time": "2024-02-19T07:02:14.334780Z"
    },
    "id": "AxDaiElA9UTu"
   },
   "outputs": [],
   "source": [
    "df2['labels']=kp.labels_\n",
    "clusters=kp.cluster_centroids_\n",
    "\n",
    "def calculate_distances(df5, centroids):\n",
    "    def euclidean_dissim(a, b):\n",
    "        \"\"\"Euclidean distance dissimilarity function\"\"\"\n",
    "        return np.sum((a - b) ** 2)\n",
    "\n",
    "    def matching_dissim(a, b):\n",
    "        \"\"\"Simple matching dissimilarity function\"\"\"\n",
    "        return np.sum(a != b)\n",
    "\n",
    "    # Initialize an empty list to store distance scores\n",
    "    distances = []\n",
    "\n",
    "    # Iterate over each row in the DataFrame\n",
    "    for index, row in df5.iterrows():\n",
    "        # Get the corresponding centroid for the current row\n",
    "        indx=row['labels']\n",
    "        centroid = centroids[indx]\n",
    "        row = row.iloc[:-1]\n",
    "        categorical_values = []\n",
    "        numerical_values = []\n",
    "        for value in row:\n",
    "            if isinstance(value, (str, pd.Categorical)):\n",
    "                categorical_values.append(value)\n",
    "            else:\n",
    "                numerical_values.append(value)\n",
    "\n",
    "        # Convert categorical and numerical sections to numpy arrays\n",
    "        categorical_array = np.array(categorical_values)\n",
    "        numerical_array = np.array(numerical_values)\n",
    "\n",
    "        numeric_centroid = []\n",
    "        categorical_centroid = []\n",
    "\n",
    "        for value in centroid:\n",
    "            try:\n",
    "                numeric_value = float(value)\n",
    "                numeric_centroid.append(numeric_value)\n",
    "            except ValueError:\n",
    "                categorical_centroid.append(value)\n",
    "\n",
    "        numeric_centroid = np.array(numeric_centroid)\n",
    "        categoric_centroid = categorical_centroid\n",
    "        categorical_dissimilarity = matching_dissim(categorical_array, categoric_centroid)\n",
    "\n",
    "        numerical_dissimilarity = euclidean_dissim(numerical_array, numeric_centroid)\n",
    "        gamma=kp.gamma\n",
    "        distance = gamma*categorical_dissimilarity + numerical_dissimilarity\n",
    "\n",
    "        distances.append(distance)\n",
    "\n",
    "    df5['distance'] = distances\n",
    "\n",
    "    return df5\n",
    "\n"
   ]
  },
  {
   "cell_type": "code",
   "execution_count": 14,
   "metadata": {
    "ExecuteTime": {
     "end_time": "2024-02-19T06:52:51.563491Z",
     "start_time": "2024-02-19T06:52:51.558579Z"
    },
    "id": "SBH6Us7gAsPl"
   },
   "outputs": [
    {
     "data": {
      "text/plain": [
       "<bound method BaseEstimator.get_params of KPrototypes(gamma=0.22191564637020644, init='Huang', n_clusters=1, n_init=3,\n",
       "            verbose=True)>"
      ]
     },
     "execution_count": 14,
     "metadata": {},
     "output_type": "execute_result"
    }
   ],
   "source": [
    "kp.get_params"
   ]
  },
  {
   "cell_type": "code",
   "execution_count": 13,
   "metadata": {
    "ExecuteTime": {
     "end_time": "2024-02-19T07:02:18.048330Z",
     "start_time": "2024-02-19T07:02:17.773436Z"
    },
    "id": "3Jm7tajH9VjX"
   },
   "outputs": [],
   "source": [
    "df2 = calculate_distances(df2, clusters)"
   ]
  },
  {
   "cell_type": "code",
   "execution_count": 14,
   "metadata": {
    "ExecuteTime": {
     "end_time": "2024-02-19T06:55:18.076865Z",
     "start_time": "2024-02-19T06:55:18.073538Z"
    },
    "id": "62XrlOYE1uZw"
   },
   "outputs": [],
   "source": [
    "df2[numerical_columns] = pd.DataFrame(minmax_scaler.inverse_transform(df2[numerical_columns]), columns=numerical_columns)\n"
   ]
  },
  {
   "cell_type": "code",
   "execution_count": 15,
   "metadata": {
    "ExecuteTime": {
     "end_time": "2024-02-19T06:55:20.889980Z",
     "start_time": "2024-02-19T06:55:20.881294Z"
    },
    "id": "_mtQeITY04e-"
   },
   "outputs": [],
   "source": [
    "df2.sort_values(by=['distance'], inplace=True, ascending=False)"
   ]
  },
  {
   "cell_type": "code",
   "execution_count": null,
   "metadata": {
    "ExecuteTime": {
     "start_time": "2024-02-18T19:41:48.711258Z"
    },
    "id": "fbLx0bunCtge"
   },
   "outputs": [],
   "source": [
    "df2"
   ]
  },
  {
   "cell_type": "code",
   "execution_count": 21,
   "metadata": {
    "ExecuteTime": {
     "end_time": "2024-02-19T06:55:24.742847Z",
     "start_time": "2024-02-19T06:55:24.738712Z"
    },
    "id": "fyZq4ZvLRZ5x"
   },
   "outputs": [
    {
     "data": {
      "text/plain": [
       "labels\n",
       "0    68\n",
       "Name: count, dtype: int64"
      ]
     },
     "execution_count": 21,
     "metadata": {},
     "output_type": "execute_result"
    }
   ],
   "source": [
    "df2['labels'].value_counts()"
   ]
  },
  {
   "cell_type": "code",
   "execution_count": 16,
   "metadata": {
    "ExecuteTime": {
     "end_time": "2024-02-19T06:55:31.620891Z",
     "start_time": "2024-02-19T06:55:31.613418Z"
    },
    "id": "TC5ySE0iHRQ7"
   },
   "outputs": [],
   "source": [
    "df_anamoly=df2"
   ]
  },
  {
   "cell_type": "code",
   "execution_count": 17,
   "metadata": {
    "ExecuteTime": {
     "end_time": "2024-02-19T06:55:36.236917Z",
     "start_time": "2024-02-19T06:55:36.231370Z"
    },
    "id": "CQF1N5WJ5fyr"
   },
   "outputs": [],
   "source": [
    "# Calculate the number of rows for the first 5%\n",
    "num_rows = int(len(df_anamoly) * 0.2)\n",
    "\n",
    "# Create the new DataFrame containing the first 5% of rows\n",
    "df_anamoly = df_anamoly.head(num_rows)"
   ]
  },
  {
   "cell_type": "code",
   "execution_count": 18,
   "metadata": {
    "ExecuteTime": {
     "end_time": "2024-02-19T06:55:39.411723Z",
     "start_time": "2024-02-19T06:55:39.406120Z"
    },
    "id": "kR70cct4R8oE"
   },
   "outputs": [],
   "source": [
    "df_anamoly.reset_index(drop=True, inplace=True)"
   ]
  },
  {
   "cell_type": "code",
   "execution_count": 19,
   "metadata": {
    "ExecuteTime": {
     "end_time": "2024-02-19T06:55:41.689721Z",
     "start_time": "2024-02-19T06:55:41.680353Z"
    },
    "id": "wmjX7k5c6Nhg"
   },
   "outputs": [
    {
     "data": {
      "text/html": [
       "<div>\n",
       "<style scoped>\n",
       "    .dataframe tbody tr th:only-of-type {\n",
       "        vertical-align: middle;\n",
       "    }\n",
       "\n",
       "    .dataframe tbody tr th {\n",
       "        vertical-align: top;\n",
       "    }\n",
       "\n",
       "    .dataframe thead th {\n",
       "        text-align: right;\n",
       "    }\n",
       "</style>\n",
       "<table border=\"1\" class=\"dataframe\">\n",
       "  <thead>\n",
       "    <tr style=\"text-align: right;\">\n",
       "      <th></th>\n",
       "      <th>gender</th>\n",
       "      <th>age</th>\n",
       "      <th>campaign_type</th>\n",
       "      <th>cost</th>\n",
       "      <th>cpc</th>\n",
       "      <th>value/cost</th>\n",
       "      <th>labels</th>\n",
       "      <th>distance</th>\n",
       "    </tr>\n",
       "  </thead>\n",
       "  <tbody>\n",
       "    <tr>\n",
       "      <th>0</th>\n",
       "      <td>unknown</td>\n",
       "      <td>55-64</td>\n",
       "      <td>APP_INSTALLS</td>\n",
       "      <td>23.75814</td>\n",
       "      <td>1.583876</td>\n",
       "      <td>121.996082</td>\n",
       "      <td>0</td>\n",
       "      <td>5.769537</td>\n",
       "    </tr>\n",
       "    <tr>\n",
       "      <th>1</th>\n",
       "      <td>male</td>\n",
       "      <td>18-24</td>\n",
       "      <td>LINK_CLICKS</td>\n",
       "      <td>192974.39147</td>\n",
       "      <td>1.249624</td>\n",
       "      <td>11.758391</td>\n",
       "      <td>0</td>\n",
       "      <td>3.983769</td>\n",
       "    </tr>\n",
       "    <tr>\n",
       "      <th>2</th>\n",
       "      <td>male</td>\n",
       "      <td>25-34</td>\n",
       "      <td>LINK_CLICKS</td>\n",
       "      <td>190341.12476</td>\n",
       "      <td>1.152577</td>\n",
       "      <td>12.274931</td>\n",
       "      <td>0</td>\n",
       "      <td>3.878164</td>\n",
       "    </tr>\n",
       "    <tr>\n",
       "      <th>3</th>\n",
       "      <td>female</td>\n",
       "      <td>25-34</td>\n",
       "      <td>LINK_CLICKS</td>\n",
       "      <td>193960.16900</td>\n",
       "      <td>0.944682</td>\n",
       "      <td>11.493768</td>\n",
       "      <td>0</td>\n",
       "      <td>3.462590</td>\n",
       "    </tr>\n",
       "    <tr>\n",
       "      <th>4</th>\n",
       "      <td>unknown</td>\n",
       "      <td>55-64</td>\n",
       "      <td>LINK_CLICKS</td>\n",
       "      <td>28.09668</td>\n",
       "      <td>1.560927</td>\n",
       "      <td>0.000000</td>\n",
       "      <td>0</td>\n",
       "      <td>2.532437</td>\n",
       "    </tr>\n",
       "    <tr>\n",
       "      <th>5</th>\n",
       "      <td>female</td>\n",
       "      <td>35-44</td>\n",
       "      <td>LINK_CLICKS</td>\n",
       "      <td>156208.43939</td>\n",
       "      <td>1.016512</td>\n",
       "      <td>10.559295</td>\n",
       "      <td>0</td>\n",
       "      <td>2.359045</td>\n",
       "    </tr>\n",
       "    <tr>\n",
       "      <th>6</th>\n",
       "      <td>female</td>\n",
       "      <td>18-24</td>\n",
       "      <td>LINK_CLICKS</td>\n",
       "      <td>161053.57497</td>\n",
       "      <td>1.044690</td>\n",
       "      <td>9.839984</td>\n",
       "      <td>0</td>\n",
       "      <td>2.312400</td>\n",
       "    </tr>\n",
       "    <tr>\n",
       "      <th>7</th>\n",
       "      <td>unknown</td>\n",
       "      <td>18-24</td>\n",
       "      <td>LINK_CLICKS</td>\n",
       "      <td>2124.52243</td>\n",
       "      <td>1.468226</td>\n",
       "      <td>21.724351</td>\n",
       "      <td>0</td>\n",
       "      <td>1.913751</td>\n",
       "    </tr>\n",
       "    <tr>\n",
       "      <th>8</th>\n",
       "      <td>unknown</td>\n",
       "      <td>25-34</td>\n",
       "      <td>LINK_CLICKS</td>\n",
       "      <td>1962.46081</td>\n",
       "      <td>1.370434</td>\n",
       "      <td>26.124578</td>\n",
       "      <td>0</td>\n",
       "      <td>1.806211</td>\n",
       "    </tr>\n",
       "    <tr>\n",
       "      <th>9</th>\n",
       "      <td>female</td>\n",
       "      <td>55-64</td>\n",
       "      <td>LINK_CLICKS</td>\n",
       "      <td>674.71723</td>\n",
       "      <td>1.394044</td>\n",
       "      <td>0.000000</td>\n",
       "      <td>0</td>\n",
       "      <td>1.629223</td>\n",
       "    </tr>\n",
       "    <tr>\n",
       "      <th>10</th>\n",
       "      <td>male</td>\n",
       "      <td>35-44</td>\n",
       "      <td>LINK_CLICKS</td>\n",
       "      <td>95664.95359</td>\n",
       "      <td>1.150497</td>\n",
       "      <td>9.671429</td>\n",
       "      <td>0</td>\n",
       "      <td>1.547233</td>\n",
       "    </tr>\n",
       "    <tr>\n",
       "      <th>11</th>\n",
       "      <td>male</td>\n",
       "      <td>25-34</td>\n",
       "      <td>OUTCOME_SALES</td>\n",
       "      <td>103441.20019</td>\n",
       "      <td>0.489625</td>\n",
       "      <td>9.393513</td>\n",
       "      <td>0</td>\n",
       "      <td>1.539471</td>\n",
       "    </tr>\n",
       "    <tr>\n",
       "      <th>12</th>\n",
       "      <td>unknown</td>\n",
       "      <td>45-54</td>\n",
       "      <td>APP_INSTALLS</td>\n",
       "      <td>142.44808</td>\n",
       "      <td>1.356648</td>\n",
       "      <td>0.000000</td>\n",
       "      <td>0</td>\n",
       "      <td>1.502936</td>\n",
       "    </tr>\n",
       "  </tbody>\n",
       "</table>\n",
       "</div>"
      ],
      "text/plain": [
       "     gender    age  campaign_type          cost       cpc  value/cost  labels  \\\n",
       "0   unknown  55-64   APP_INSTALLS      23.75814  1.583876  121.996082       0   \n",
       "1      male  18-24    LINK_CLICKS  192974.39147  1.249624   11.758391       0   \n",
       "2      male  25-34    LINK_CLICKS  190341.12476  1.152577   12.274931       0   \n",
       "3    female  25-34    LINK_CLICKS  193960.16900  0.944682   11.493768       0   \n",
       "4   unknown  55-64    LINK_CLICKS      28.09668  1.560927    0.000000       0   \n",
       "5    female  35-44    LINK_CLICKS  156208.43939  1.016512   10.559295       0   \n",
       "6    female  18-24    LINK_CLICKS  161053.57497  1.044690    9.839984       0   \n",
       "7   unknown  18-24    LINK_CLICKS    2124.52243  1.468226   21.724351       0   \n",
       "8   unknown  25-34    LINK_CLICKS    1962.46081  1.370434   26.124578       0   \n",
       "9    female  55-64    LINK_CLICKS     674.71723  1.394044    0.000000       0   \n",
       "10     male  35-44    LINK_CLICKS   95664.95359  1.150497    9.671429       0   \n",
       "11     male  25-34  OUTCOME_SALES  103441.20019  0.489625    9.393513       0   \n",
       "12  unknown  45-54   APP_INSTALLS     142.44808  1.356648    0.000000       0   \n",
       "\n",
       "    distance  \n",
       "0   5.769537  \n",
       "1   3.983769  \n",
       "2   3.878164  \n",
       "3   3.462590  \n",
       "4   2.532437  \n",
       "5   2.359045  \n",
       "6   2.312400  \n",
       "7   1.913751  \n",
       "8   1.806211  \n",
       "9   1.629223  \n",
       "10  1.547233  \n",
       "11  1.539471  \n",
       "12  1.502936  "
      ]
     },
     "execution_count": 19,
     "metadata": {},
     "output_type": "execute_result"
    }
   ],
   "source": [
    "df_anamoly"
   ]
  },
  {
   "cell_type": "code",
   "execution_count": null,
   "metadata": {
    "collapsed": false,
    "jupyter": {
     "outputs_hidden": false
    }
   },
   "outputs": [],
   "source": []
  }
 ],
 "metadata": {
  "accelerator": "TPU",
  "colab": {
   "provenance": []
  },
  "kernelspec": {
   "display_name": "Python 3 (ipykernel)",
   "language": "python",
   "name": "python3"
  },
  "language_info": {
   "codemirror_mode": {
    "name": "ipython",
    "version": 3
   },
   "file_extension": ".py",
   "mimetype": "text/x-python",
   "name": "python",
   "nbconvert_exporter": "python",
   "pygments_lexer": "ipython3",
   "version": "3.10.11"
  }
 },
 "nbformat": 4,
 "nbformat_minor": 4
}
